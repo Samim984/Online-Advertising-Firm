{
 "cells": [
  {
   "cell_type": "markdown",
   "id": "9f23d2ec",
   "metadata": {},
   "source": [
    "# Problem Statement:\n",
    "You are provided with the marketing spend data of an online advertising firm who are looking to optimize their cost spend on ads while increasing their yield in terms of marketing goals."
   ]
  },
  {
   "cell_type": "markdown",
   "id": "27a27b72",
   "metadata": {},
   "source": [
    "# My Understanding\n",
    "Problem Overview: The task involves optimizing marketing spend for an online advertising firm. The firm aims to achieve better results from its advertising budget while ensuring cost efficiency. The goal is to use Data Science and AI techniques to enhance return on investment (ROI) by analyzing historical marketing data."
   ]
  },
  {
   "cell_type": "markdown",
   "id": "5b416e6a",
   "metadata": {},
   "source": [
    "# Objective:\n",
    "Analyze the data and find actionable insights in the given data, come up with strategies that use Data Science and AI techniques to optimize their marketing spends for maximum yield"
   ]
  },
  {
   "cell_type": "markdown",
   "id": "c7526a7c",
   "metadata": {},
   "source": [
    "# My Understanding\n",
    "Objective:\n",
    "\n",
    "Optimize ad spend:\n",
    "\n",
    "1.Reduce unnecessary expenditures while maximizing conversions or other marketing goals.\n",
    "\n",
    "2.Identify actionable insights: Discover patterns or trends that can inform better marketing decisions.\n",
    "\n",
    "3.Build predictive models: Develop strategies or models that predict the best allocation of ad spend to achieve desired outcomes."
   ]
  },
  {
   "cell_type": "markdown",
   "id": "edfad439",
   "metadata": {},
   "source": [
    "# Tasks to be Performed:\n",
    "1.Preprocess the data for feature selection and feature engineering\n",
    "\n",
    "2.Analyze the data for actionable insights by end to end Exploratory Data Analysis\n",
    "\n",
    "3.Perform statistical analysis both Descriptive and Inferential for higher level insights\n",
    "\n",
    "4.Devise a strategy and machine learning model that will solve the business problem"
   ]
  },
  {
   "cell_type": "markdown",
   "id": "9a9b669d",
   "metadata": {},
   "source": [
    "# 1. Importing Necessary Libraries"
   ]
  },
  {
   "cell_type": "code",
   "execution_count": 1,
   "id": "2d03ee46",
   "metadata": {},
   "outputs": [],
   "source": [
    "import pandas as pd                                          # To read and load file\n",
    "import numpy as np                                           # To solve mathemetical problem\n",
    "import seaborn as sns                                        # For statistical visualization\n",
    "import matplotlib.pyplot as plt                              # For visualization\n",
    "from sklearn.model_selection import train_test_split         # To creat model selection\n",
    "from sklearn.linear_model import LinearRegression            # To creat linearregression model\n",
    "from sklearn.ensemble import RandomForestRegressor           # To creat more accurate predicted model\n",
    "from sklearn.impute import SimpleImputer                     # To handle mossing data imputation\n",
    "from sklearn.metrics import mean_squared_error               # To evaluate model\n",
    "from sklearn.preprocessing import OrdinalEncoder             # To slice process normalize & encode data"
   ]
  },
  {
   "cell_type": "markdown",
   "id": "43bc9383",
   "metadata": {},
   "source": [
    "# 2.Data Loading"
   ]
  },
  {
   "cell_type": "code",
   "execution_count": 2,
   "id": "bb7e3eb6",
   "metadata": {},
   "outputs": [
    {
     "data": {
      "text/html": [
       "<div>\n",
       "<style scoped>\n",
       "    .dataframe tbody tr th:only-of-type {\n",
       "        vertical-align: middle;\n",
       "    }\n",
       "\n",
       "    .dataframe tbody tr th {\n",
       "        vertical-align: top;\n",
       "    }\n",
       "\n",
       "    .dataframe thead th {\n",
       "        text-align: right;\n",
       "    }\n",
       "</style>\n",
       "<table border=\"1\" class=\"dataframe\">\n",
       "  <thead>\n",
       "    <tr style=\"text-align: right;\">\n",
       "      <th></th>\n",
       "      <th>month</th>\n",
       "      <th>day</th>\n",
       "      <th>campaign_number</th>\n",
       "      <th>user_engagement</th>\n",
       "      <th>banner</th>\n",
       "      <th>placement</th>\n",
       "      <th>displays</th>\n",
       "      <th>cost</th>\n",
       "      <th>clicks</th>\n",
       "      <th>revenue</th>\n",
       "      <th>post_click_conversions</th>\n",
       "      <th>post_click_sales_amount</th>\n",
       "      <th>Unnamed: 12</th>\n",
       "      <th>Unnamed: 13</th>\n",
       "    </tr>\n",
       "  </thead>\n",
       "  <tbody>\n",
       "    <tr>\n",
       "      <th>0</th>\n",
       "      <td>April</td>\n",
       "      <td>1</td>\n",
       "      <td>camp 1</td>\n",
       "      <td>High</td>\n",
       "      <td>160 x 600</td>\n",
       "      <td>abc</td>\n",
       "      <td>4</td>\n",
       "      <td>0.0060</td>\n",
       "      <td>0</td>\n",
       "      <td>0.0000</td>\n",
       "      <td>0</td>\n",
       "      <td>0.0000</td>\n",
       "      <td>NaN</td>\n",
       "      <td>NaN</td>\n",
       "    </tr>\n",
       "    <tr>\n",
       "      <th>1</th>\n",
       "      <td>April</td>\n",
       "      <td>1</td>\n",
       "      <td>camp 1</td>\n",
       "      <td>High</td>\n",
       "      <td>160 x 600</td>\n",
       "      <td>def</td>\n",
       "      <td>20170</td>\n",
       "      <td>26.7824</td>\n",
       "      <td>158</td>\n",
       "      <td>28.9717</td>\n",
       "      <td>23</td>\n",
       "      <td>1972.4602</td>\n",
       "      <td>NaN</td>\n",
       "      <td>NaN</td>\n",
       "    </tr>\n",
       "    <tr>\n",
       "      <th>2</th>\n",
       "      <td>April</td>\n",
       "      <td>1</td>\n",
       "      <td>camp 1</td>\n",
       "      <td>High</td>\n",
       "      <td>160 x 600</td>\n",
       "      <td>ghi</td>\n",
       "      <td>14701</td>\n",
       "      <td>27.6304</td>\n",
       "      <td>158</td>\n",
       "      <td>28.9771</td>\n",
       "      <td>78</td>\n",
       "      <td>2497.2636</td>\n",
       "      <td>NaN</td>\n",
       "      <td>NaN</td>\n",
       "    </tr>\n",
       "    <tr>\n",
       "      <th>3</th>\n",
       "      <td>April</td>\n",
       "      <td>1</td>\n",
       "      <td>camp 1</td>\n",
       "      <td>High</td>\n",
       "      <td>160 x 600</td>\n",
       "      <td>mno</td>\n",
       "      <td>171259</td>\n",
       "      <td>216.8750</td>\n",
       "      <td>1796</td>\n",
       "      <td>329.4518</td>\n",
       "      <td>617</td>\n",
       "      <td>24625.3234</td>\n",
       "      <td>NaN</td>\n",
       "      <td>NaN</td>\n",
       "    </tr>\n",
       "    <tr>\n",
       "      <th>4</th>\n",
       "      <td>April</td>\n",
       "      <td>1</td>\n",
       "      <td>camp 1</td>\n",
       "      <td>Low</td>\n",
       "      <td>160 x 600</td>\n",
       "      <td>def</td>\n",
       "      <td>552</td>\n",
       "      <td>0.0670</td>\n",
       "      <td>1</td>\n",
       "      <td>0.1834</td>\n",
       "      <td>0</td>\n",
       "      <td>0.0000</td>\n",
       "      <td>NaN</td>\n",
       "      <td>NaN</td>\n",
       "    </tr>\n",
       "  </tbody>\n",
       "</table>\n",
       "</div>"
      ],
      "text/plain": [
       "   month  day campaign_number user_engagement     banner placement  displays  \\\n",
       "0  April    1          camp 1            High  160 x 600       abc         4   \n",
       "1  April    1          camp 1            High  160 x 600       def     20170   \n",
       "2  April    1          camp 1            High  160 x 600       ghi     14701   \n",
       "3  April    1          camp 1            High  160 x 600       mno    171259   \n",
       "4  April    1          camp 1             Low  160 x 600       def       552   \n",
       "\n",
       "       cost  clicks   revenue  post_click_conversions  \\\n",
       "0    0.0060       0    0.0000                       0   \n",
       "1   26.7824     158   28.9717                      23   \n",
       "2   27.6304     158   28.9771                      78   \n",
       "3  216.8750    1796  329.4518                     617   \n",
       "4    0.0670       1    0.1834                       0   \n",
       "\n",
       "   post_click_sales_amount  Unnamed: 12  Unnamed: 13  \n",
       "0                   0.0000          NaN          NaN  \n",
       "1                1972.4602          NaN          NaN  \n",
       "2                2497.2636          NaN          NaN  \n",
       "3               24625.3234          NaN          NaN  \n",
       "4                   0.0000          NaN          NaN  "
      ]
     },
     "execution_count": 2,
     "metadata": {},
     "output_type": "execute_result"
    }
   ],
   "source": [
    "file_path = r'C:\\Users\\SAMIM IMTIAZ\\Desktop\\DASI CERTIFICATION\\online_advertising_performance_data.csv'\n",
    "Data = pd.read_csv(file_path)\n",
    "Data.head()"
   ]
  },
  {
   "cell_type": "code",
   "execution_count": 3,
   "id": "0cba81e1",
   "metadata": {},
   "outputs": [
    {
     "data": {
      "text/plain": [
       "Index(['month', 'day', 'campaign_number', 'user_engagement', 'banner',\n",
       "       'placement', 'displays', 'cost', 'clicks', 'revenue',\n",
       "       'post_click_conversions', 'post_click_sales_amount', 'Unnamed: 12',\n",
       "       'Unnamed: 13'],\n",
       "      dtype='object')"
      ]
     },
     "execution_count": 3,
     "metadata": {},
     "output_type": "execute_result"
    }
   ],
   "source": [
    "Data.columns"
   ]
  },
  {
   "cell_type": "markdown",
   "id": "48d33df4",
   "metadata": {},
   "source": [
    "# 3.Check missing values"
   ]
  },
  {
   "cell_type": "code",
   "execution_count": 4,
   "id": "0d223915",
   "metadata": {},
   "outputs": [
    {
     "name": "stdout",
     "output_type": "stream",
     "text": [
      "\n",
      "Missing Values:\n"
     ]
    },
    {
     "data": {
      "text/plain": [
       "month                          0\n",
       "day                            0\n",
       "campaign_number                0\n",
       "user_engagement                0\n",
       "banner                         0\n",
       "placement                    413\n",
       "displays                       0\n",
       "cost                           0\n",
       "clicks                         0\n",
       "revenue                        0\n",
       "post_click_conversions         0\n",
       "post_click_sales_amount        0\n",
       "Unnamed: 12                15408\n",
       "Unnamed: 13                15408\n",
       "dtype: int64"
      ]
     },
     "execution_count": 4,
     "metadata": {},
     "output_type": "execute_result"
    }
   ],
   "source": [
    "print(\"\\nMissing Values:\")\n",
    "Data.isna().sum()"
   ]
  },
  {
   "cell_type": "markdown",
   "id": "149208d5",
   "metadata": {},
   "source": [
    "# 4.Data Cleaning"
   ]
  },
  {
   "cell_type": "code",
   "execution_count": 5,
   "id": "8b450e40",
   "metadata": {},
   "outputs": [],
   "source": [
    "# Drop column that are not needed\n",
    "Data = Data.drop(['Unnamed: 12','Unnamed: 13'], axis=1)"
   ]
  },
  {
   "cell_type": "code",
   "execution_count": 6,
   "id": "c242b4b4",
   "metadata": {},
   "outputs": [],
   "source": [
    "# Drop rows with missing values in essential column\n",
    "Data.dropna(subset=['placement'], inplace=True)"
   ]
  },
  {
   "cell_type": "code",
   "execution_count": 7,
   "id": "20eb7112",
   "metadata": {},
   "outputs": [
    {
     "data": {
      "text/plain": [
       "0        160 x 600\n",
       "1        160 x 600\n",
       "2        160 x 600\n",
       "3        160 x 600\n",
       "4        160 x 600\n",
       "           ...    \n",
       "15403    160 x 600\n",
       "15404    160 x 600\n",
       "15405    800 x 250\n",
       "15406    800 x 250\n",
       "15407    240 x 400\n",
       "Name: banner, Length: 14995, dtype: object"
      ]
     },
     "execution_count": 7,
     "metadata": {},
     "output_type": "execute_result"
    }
   ],
   "source": [
    "Data.banner"
   ]
  },
  {
   "cell_type": "markdown",
   "id": "fb98e664",
   "metadata": {},
   "source": [
    "Banner column has dimention values it seems to have too many unique values don't know it is needed to predict cost or not so let's analysis Banner"
   ]
  },
  {
   "cell_type": "markdown",
   "id": "373b34a7",
   "metadata": {},
   "source": [
    "Check banner uniqueness,distribution,valuecounts & correlation with cost"
   ]
  },
  {
   "cell_type": "code",
   "execution_count": 8,
   "id": "fb3b16de",
   "metadata": {},
   "outputs": [
    {
     "data": {
      "text/plain": [
       "array(['160 x 600', '240 x 400', '300 x 250', '468 x 60', '580 x 400',\n",
       "       '670 x 90', '728 x 90', '800 x 250'], dtype=object)"
      ]
     },
     "execution_count": 8,
     "metadata": {},
     "output_type": "execute_result"
    }
   ],
   "source": [
    "Data['banner'].unique()"
   ]
  },
  {
   "cell_type": "code",
   "execution_count": 9,
   "id": "56502168",
   "metadata": {},
   "outputs": [
    {
     "data": {
      "text/plain": [
       "8"
      ]
     },
     "execution_count": 9,
     "metadata": {},
     "output_type": "execute_result"
    }
   ],
   "source": [
    "Data['banner'].nunique()"
   ]
  },
  {
   "cell_type": "code",
   "execution_count": 10,
   "id": "de07524b",
   "metadata": {},
   "outputs": [
    {
     "data": {
      "text/plain": [
       "banner\n",
       "300 x 250    2808\n",
       "728 x 90     2789\n",
       "240 x 400    2425\n",
       "670 x 90     2352\n",
       "468 x 60     1899\n",
       "160 x 600    1757\n",
       "580 x 400     606\n",
       "800 x 250     359\n",
       "Name: count, dtype: int64"
      ]
     },
     "execution_count": 10,
     "metadata": {},
     "output_type": "execute_result"
    }
   ],
   "source": [
    "Data['banner'].value_counts()"
   ]
  },
  {
   "cell_type": "code",
   "execution_count": 11,
   "id": "51102557",
   "metadata": {},
   "outputs": [],
   "source": [
    "# To check correlation with target cost \n",
    "from scipy.stats import f_oneway   # to perfrom ANOVA a one way analysis of variance test"
   ]
  },
  {
   "cell_type": "code",
   "execution_count": 12,
   "id": "5490b4ce",
   "metadata": {},
   "outputs": [
    {
     "name": "stdout",
     "output_type": "stream",
     "text": [
      "ANOVA p_value: 1.2033025353430136e-102\n"
     ]
    }
   ],
   "source": [
    "# Performing ANOVA\n",
    "unique_banner = Data['banner'].unique()\n",
    "groups = [Data[Data['banner'] == b]['cost'] for b in unique_banner]\n",
    "stat, p_value = f_oneway(*groups)\n",
    "print(f\"ANOVA p_value: {p_value}\")"
   ]
  },
  {
   "cell_type": "markdown",
   "id": "366a96af",
   "metadata": {},
   "source": [
    "The ANOVA result shows very low p_value\n",
    "\n",
    "(approx 1.2*10-102), indicates there is sgnificant statical relationshop betwenn banner size & cost \n",
    "\n",
    "Feature importance Analysis\n",
    "\n",
    "Train the model first: To check feature importance of banner"
   ]
  },
  {
   "cell_type": "code",
   "execution_count": 13,
   "id": "e6b8db2a",
   "metadata": {},
   "outputs": [],
   "source": [
    "X = Data.drop(columns=['cost'])                        # Assuming cost is the target\n",
    "Y = Data['cost']"
   ]
  },
  {
   "cell_type": "markdown",
   "id": "7e46a9fe",
   "metadata": {},
   "source": [
    "1. Encode categorical data before imputation:"
   ]
  },
  {
   "cell_type": "code",
   "execution_count": 14,
   "id": "89aeea8b",
   "metadata": {},
   "outputs": [],
   "source": [
    "from sklearn.preprocessing import OrdinalEncoder\n",
    "\n",
    "categorical_cols = ['month', 'campaign_number', 'user_engagement', 'placement']\n",
    "encoder = OrdinalEncoder()\n",
    "X[categorical_cols] = encoder.fit_transform(X[categorical_cols])"
   ]
  },
  {
   "cell_type": "markdown",
   "id": "2c4e02ea",
   "metadata": {},
   "source": [
    "2 Drop or Retain banner column \n",
    "\n",
    "Check 'banner' Impact: Run the model to get feature importance scores. If 'banner' has low importance:"
   ]
  },
  {
   "cell_type": "code",
   "execution_count": 15,
   "id": "b0275b91",
   "metadata": {},
   "outputs": [],
   "source": [
    "Data.drop(columns = ['banner'], inplace=True)"
   ]
  },
  {
   "cell_type": "code",
   "execution_count": 16,
   "id": "16195b01",
   "metadata": {},
   "outputs": [
    {
     "name": "stdout",
     "output_type": "stream",
     "text": [
      "Mean Squared Error (Without Banner): 60.637079562906514\n",
      "R2 Score (Without Banner): 0.9698205460891216\n"
     ]
    }
   ],
   "source": [
    "from sklearn.model_selection import train_test_split\n",
    "from sklearn.ensemble import RandomForestRegressor\n",
    "from sklearn.metrics import mean_squared_error, r2_score\n",
    "\n",
    "# Define features droping banner\n",
    "X_no_banner = X.drop(columns=['banner'])\n",
    "y = Data['cost']      # Traget variable\n",
    "\n",
    "# Split the Data\n",
    "X_train_no_banner, X_test_no_banner, y_train, y_test = train_test_split(X_no_banner, y, test_size=0.2, random_state=42)\n",
    "\n",
    "# Train Model\n",
    "random_forest_no_banner = RandomForestRegressor(n_estimators=100, random_state=42)\n",
    "random_forest_no_banner.fit(X_train_no_banner, y_train)\n",
    "\n",
    "# Predict on the test data set\n",
    "y_pred_no_banner = random_forest_no_banner.predict(X_test_no_banner)\n",
    "\n",
    "# Evaluate the performance\n",
    "mse_no_banner = mean_squared_error(y_test, y_pred_no_banner)\n",
    "r2_no_banner = r2_score(y_test, y_pred_no_banner)\n",
    "\n",
    "print(f\"Mean Squared Error (Without Banner): {mse_no_banner}\")\n",
    "print(f\"R2 Score (Without Banner): {r2_no_banner}\")\n",
    "      "
   ]
  },
  {
   "cell_type": "markdown",
   "id": "daa420aa",
   "metadata": {},
   "source": [
    "Key Insights of the Result:\n",
    "\n",
    "An R² score of 0.97 indicates that the model still explains about 97% of the variance in the target variable (cost). This is excellent, suggesting that the model remains highly accurate even without the 'banner' feature.\n",
    "\n",
    "The MSE value of around 60 is relatively low. If this is comparable to the MSE when 'banner' was included, it further indicates that dropping 'banner' does not harm the model's accuracy."
   ]
  },
  {
   "cell_type": "markdown",
   "id": "38a70a15",
   "metadata": {},
   "source": [
    "# 5. Encode Categorical Variables"
   ]
  },
  {
   "cell_type": "code",
   "execution_count": 17,
   "id": "1fb68bed",
   "metadata": {},
   "outputs": [],
   "source": [
    "categorical_cols = ['month', 'user_engagement', 'placement', 'campaign_number']\n",
    "encoder = OrdinalEncoder()\n",
    "Data[categorical_cols] = encoder.fit_transform(Data[categorical_cols])"
   ]
  },
  {
   "cell_type": "code",
   "execution_count": 18,
   "id": "166d9825",
   "metadata": {},
   "outputs": [],
   "source": [
    "# Condition Droping:\n",
    "if 'banner' in Data.columns:\n",
    "    Data = Data.drop(['banner'], axis=1)"
   ]
  },
  {
   "cell_type": "markdown",
   "id": "5acde1fb",
   "metadata": {},
   "source": [
    "# 6. Perform Exploratory Data Analysis (EDA)"
   ]
  },
  {
   "cell_type": "code",
   "execution_count": 19,
   "id": "b8e4eac6",
   "metadata": {
    "scrolled": false
   },
   "outputs": [
    {
     "data": {
      "image/png": "[encoded data removed]",
      "text/plain": [
       "<Figure size 720x576 with 12 Axes>"
      ]
     },
     "metadata": {
      "needs_background": "light"
     },
     "output_type": "display_data"
    }
   ],
   "source": [
    "# Plot Histogram for numerical variables\n",
    "Data.hist(figsize=(10,8))\n",
    "plt.tight_layout()\n",
    "plt.show()"
   ]
  },
  {
   "cell_type": "code",
   "execution_count": 20,
   "id": "e728c160",
   "metadata": {},
   "outputs": [
    {
     "data": {
      "image/png": "[encoded data removed]",
      "text/plain": [
       "<Figure size 432x288 with 1 Axes>"
      ]
     },
     "metadata": {
      "needs_background": "light"
     },
     "output_type": "display_data"
    }
   ],
   "source": [
    "# Plot bar chat of categorical variables- 1. campaign_number'\n",
    "plt.figure(figsize=(6,4))\n",
    "counts = Data['campaign_number'].value_counts()\n",
    "plt.bar(counts.index, counts.values)\n",
    "plt.xlabel('campaign_number')\n",
    "plt.ylabel('count')\n",
    "plt.title('Distribution of Campaign Number')\n",
    "plt.xticks(rotation=90)\n",
    "plt.show()"
   ]
  },
  {
   "cell_type": "markdown",
   "id": "facf90ed",
   "metadata": {},
   "source": [
    "INSIGHTS: Camp 3 & Camp 2 has more impact"
   ]
  },
  {
   "cell_type": "code",
   "execution_count": 21,
   "id": "d8836480",
   "metadata": {},
   "outputs": [
    {
     "data": {
      "image/png": "[encoded data removed]",
      "text/plain": [
       "<Figure size 432x288 with 1 Axes>"
      ]
     },
     "metadata": {
      "needs_background": "light"
     },
     "output_type": "display_data"
    }
   ],
   "source": [
    "# Plot bar chat of categorical variables- 2. 'placement'\n",
    "plt.figure(figsize=(6,4))\n",
    "counts = Data['placement'].value_counts()\n",
    "plt.bar(counts.index, counts.values)\n",
    "plt.xlabel('placement')\n",
    "plt.ylabel('count')\n",
    "plt.title('Distribution of placement')\n",
    "plt.xticks(rotation=90)\n",
    "plt.show()"
   ]
  },
  {
   "cell_type": "markdown",
   "id": "6cfa6528",
   "metadata": {},
   "source": [
    "INSIGHTS: mno placement has more impact"
   ]
  },
  {
   "cell_type": "code",
   "execution_count": 22,
   "id": "2728caf6",
   "metadata": {},
   "outputs": [
    {
     "data": {
      "image/png": "[encoded data removed]",
      "text/plain": [
       "<Figure size 432x288 with 1 Axes>"
      ]
     },
     "metadata": {
      "needs_background": "light"
     },
     "output_type": "display_data"
    }
   ],
   "source": [
    "# Plot bar chat of categorical variables- 3.  'user_engagement'\n",
    "plt.figure(figsize=(6,4))\n",
    "counts = Data['user_engagement'].value_counts()\n",
    "plt.bar(counts.index, counts.values)\n",
    "plt.xlabel('user_engagement')\n",
    "plt.ylabel('count')\n",
    "plt.title('Distribution of user_engagement')\n",
    "plt.xticks(rotation=90)\n",
    "plt.show()"
   ]
  },
  {
   "cell_type": "markdown",
   "id": "003bdbf6",
   "metadata": {},
   "source": [
    "INSIGHTS: Medium user has more impact"
   ]
  },
  {
   "cell_type": "code",
   "execution_count": 23,
   "id": "265cca74",
   "metadata": {},
   "outputs": [
    {
     "data": {
      "image/png": "[encoded data removed]",
      "text/plain": [
       "<Figure size 432x288 with 1 Axes>"
      ]
     },
     "metadata": {
      "needs_background": "light"
     },
     "output_type": "display_data"
    }
   ],
   "source": [
    "# Plot bar chat of categorical variables- 4. 'month'\n",
    "plt.figure(figsize=(6,4))\n",
    "counts = Data['month'].value_counts()\n",
    "plt.bar(counts.index, counts.values)\n",
    "plt.xlabel('month')\n",
    "plt.ylabel('count')\n",
    "plt.title('Distribution of month')\n",
    "plt.xticks(rotation=90)\n",
    "plt.show()"
   ]
  },
  {
   "cell_type": "markdown",
   "id": "aaaae32b",
   "metadata": {},
   "source": [
    "INSIGHTS: April month has more impact"
   ]
  },
  {
   "cell_type": "markdown",
   "id": "fbfb4575",
   "metadata": {},
   "source": [
    "# 7. Perform Statistical Analysis"
   ]
  },
  {
   "cell_type": "code",
   "execution_count": 24,
   "id": "e33ee625",
   "metadata": {},
   "outputs": [
    {
     "name": "stdout",
     "output_type": "stream",
     "text": [
      "\n",
      "Descriptive Statatics\n"
     ]
    },
    {
     "data": {
      "text/html": [
       "<div>\n",
       "<style scoped>\n",
       "    .dataframe tbody tr th:only-of-type {\n",
       "        vertical-align: middle;\n",
       "    }\n",
       "\n",
       "    .dataframe tbody tr th {\n",
       "        vertical-align: top;\n",
       "    }\n",
       "\n",
       "    .dataframe thead th {\n",
       "        text-align: right;\n",
       "    }\n",
       "</style>\n",
       "<table border=\"1\" class=\"dataframe\">\n",
       "  <thead>\n",
       "    <tr style=\"text-align: right;\">\n",
       "      <th></th>\n",
       "      <th>month</th>\n",
       "      <th>day</th>\n",
       "      <th>campaign_number</th>\n",
       "      <th>user_engagement</th>\n",
       "      <th>placement</th>\n",
       "      <th>displays</th>\n",
       "      <th>cost</th>\n",
       "      <th>clicks</th>\n",
       "      <th>revenue</th>\n",
       "      <th>post_click_conversions</th>\n",
       "      <th>post_click_sales_amount</th>\n",
       "    </tr>\n",
       "  </thead>\n",
       "  <tbody>\n",
       "    <tr>\n",
       "      <th>count</th>\n",
       "      <td>14995.000000</td>\n",
       "      <td>14995.000000</td>\n",
       "      <td>14995.000000</td>\n",
       "      <td>14995.000000</td>\n",
       "      <td>14995.000000</td>\n",
       "      <td>14995.000000</td>\n",
       "      <td>14995.000000</td>\n",
       "      <td>14995.000000</td>\n",
       "      <td>14995.000000</td>\n",
       "      <td>14995.000000</td>\n",
       "      <td>14995.000000</td>\n",
       "    </tr>\n",
       "    <tr>\n",
       "      <th>mean</th>\n",
       "      <td>0.902301</td>\n",
       "      <td>15.471957</td>\n",
       "      <td>1.000267</td>\n",
       "      <td>1.041214</td>\n",
       "      <td>2.402267</td>\n",
       "      <td>15939.616939</td>\n",
       "      <td>11.683242</td>\n",
       "      <td>166.244215</td>\n",
       "      <td>18.423759</td>\n",
       "      <td>43.465555</td>\n",
       "      <td>2181.756135</td>\n",
       "    </tr>\n",
       "    <tr>\n",
       "      <th>std</th>\n",
       "      <td>0.838574</td>\n",
       "      <td>8.741317</td>\n",
       "      <td>0.946621</td>\n",
       "      <td>0.817090</td>\n",
       "      <td>1.303885</td>\n",
       "      <td>44923.954378</td>\n",
       "      <td>45.950340</td>\n",
       "      <td>737.736875</td>\n",
       "      <td>98.059296</td>\n",
       "      <td>216.491678</td>\n",
       "      <td>10660.989934</td>\n",
       "    </tr>\n",
       "    <tr>\n",
       "      <th>min</th>\n",
       "      <td>0.000000</td>\n",
       "      <td>1.000000</td>\n",
       "      <td>0.000000</td>\n",
       "      <td>0.000000</td>\n",
       "      <td>0.000000</td>\n",
       "      <td>0.000000</td>\n",
       "      <td>0.000000</td>\n",
       "      <td>0.000000</td>\n",
       "      <td>0.000000</td>\n",
       "      <td>0.000000</td>\n",
       "      <td>0.000000</td>\n",
       "    </tr>\n",
       "    <tr>\n",
       "      <th>25%</th>\n",
       "      <td>0.000000</td>\n",
       "      <td>8.000000</td>\n",
       "      <td>0.000000</td>\n",
       "      <td>0.000000</td>\n",
       "      <td>1.000000</td>\n",
       "      <td>102.000000</td>\n",
       "      <td>0.030200</td>\n",
       "      <td>0.000000</td>\n",
       "      <td>0.000000</td>\n",
       "      <td>0.000000</td>\n",
       "      <td>0.000000</td>\n",
       "    </tr>\n",
       "    <tr>\n",
       "      <th>50%</th>\n",
       "      <td>1.000000</td>\n",
       "      <td>15.000000</td>\n",
       "      <td>1.000000</td>\n",
       "      <td>1.000000</td>\n",
       "      <td>2.000000</td>\n",
       "      <td>1336.000000</td>\n",
       "      <td>0.377500</td>\n",
       "      <td>7.000000</td>\n",
       "      <td>0.542300</td>\n",
       "      <td>0.000000</td>\n",
       "      <td>0.000000</td>\n",
       "    </tr>\n",
       "    <tr>\n",
       "      <th>75%</th>\n",
       "      <td>2.000000</td>\n",
       "      <td>23.000000</td>\n",
       "      <td>2.000000</td>\n",
       "      <td>2.000000</td>\n",
       "      <td>4.000000</td>\n",
       "      <td>9619.000000</td>\n",
       "      <td>2.705250</td>\n",
       "      <td>57.000000</td>\n",
       "      <td>4.000000</td>\n",
       "      <td>3.000000</td>\n",
       "      <td>185.275250</td>\n",
       "    </tr>\n",
       "    <tr>\n",
       "      <th>max</th>\n",
       "      <td>2.000000</td>\n",
       "      <td>31.000000</td>\n",
       "      <td>2.000000</td>\n",
       "      <td>2.000000</td>\n",
       "      <td>4.000000</td>\n",
       "      <td>455986.000000</td>\n",
       "      <td>556.704800</td>\n",
       "      <td>14566.000000</td>\n",
       "      <td>2096.211600</td>\n",
       "      <td>3369.000000</td>\n",
       "      <td>199930.318000</td>\n",
       "    </tr>\n",
       "  </tbody>\n",
       "</table>\n",
       "</div>"
      ],
      "text/plain": [
       "              month           day  campaign_number  user_engagement  \\\n",
       "count  14995.000000  14995.000000     14995.000000     14995.000000   \n",
       "mean       0.902301     15.471957         1.000267         1.041214   \n",
       "std        0.838574      8.741317         0.946621         0.817090   \n",
       "min        0.000000      1.000000         0.000000         0.000000   \n",
       "25%        0.000000      8.000000         0.000000         0.000000   \n",
       "50%        1.000000     15.000000         1.000000         1.000000   \n",
       "75%        2.000000     23.000000         2.000000         2.000000   \n",
       "max        2.000000     31.000000         2.000000         2.000000   \n",
       "\n",
       "          placement       displays          cost        clicks       revenue  \\\n",
       "count  14995.000000   14995.000000  14995.000000  14995.000000  14995.000000   \n",
       "mean       2.402267   15939.616939     11.683242    166.244215     18.423759   \n",
       "std        1.303885   44923.954378     45.950340    737.736875     98.059296   \n",
       "min        0.000000       0.000000      0.000000      0.000000      0.000000   \n",
       "25%        1.000000     102.000000      0.030200      0.000000      0.000000   \n",
       "50%        2.000000    1336.000000      0.377500      7.000000      0.542300   \n",
       "75%        4.000000    9619.000000      2.705250     57.000000      4.000000   \n",
       "max        4.000000  455986.000000    556.704800  14566.000000   2096.211600   \n",
       "\n",
       "       post_click_conversions  post_click_sales_amount  \n",
       "count            14995.000000             14995.000000  \n",
       "mean                43.465555              2181.756135  \n",
       "std                216.491678             10660.989934  \n",
       "min                  0.000000                 0.000000  \n",
       "25%                  0.000000                 0.000000  \n",
       "50%                  0.000000                 0.000000  \n",
       "75%                  3.000000               185.275250  \n",
       "max               3369.000000            199930.318000  "
      ]
     },
     "execution_count": 24,
     "metadata": {},
     "output_type": "execute_result"
    }
   ],
   "source": [
    "# Calculate descriptive statistics\n",
    "print(\"\\nDescriptive Statatics\")\n",
    "Data.describe()"
   ]
  },
  {
   "cell_type": "code",
   "execution_count": 34,
   "id": "0b51dbd3",
   "metadata": {
    "scrolled": false
   },
   "outputs": [
    {
     "data": {
      "text/html": [
       "<div>\n",
       "<style scoped>\n",
       "    .dataframe tbody tr th:only-of-type {\n",
       "        vertical-align: middle;\n",
       "    }\n",
       "\n",
       "    .dataframe tbody tr th {\n",
       "        vertical-align: top;\n",
       "    }\n",
       "\n",
       "    .dataframe thead th {\n",
       "        text-align: right;\n",
       "    }\n",
       "</style>\n",
       "<table border=\"1\" class=\"dataframe\">\n",
       "  <thead>\n",
       "    <tr style=\"text-align: right;\">\n",
       "      <th></th>\n",
       "      <th>month</th>\n",
       "      <th>day</th>\n",
       "      <th>campaign_number</th>\n",
       "      <th>user_engagement</th>\n",
       "      <th>placement</th>\n",
       "      <th>displays</th>\n",
       "      <th>cost</th>\n",
       "      <th>clicks</th>\n",
       "      <th>revenue</th>\n",
       "      <th>post_click_conversions</th>\n",
       "      <th>post_click_sales_amount</th>\n",
       "    </tr>\n",
       "  </thead>\n",
       "  <tbody>\n",
       "    <tr>\n",
       "      <th>month</th>\n",
       "      <td>1.000000</td>\n",
       "      <td>0.020957</td>\n",
       "      <td>-0.000471</td>\n",
       "      <td>-0.078708</td>\n",
       "      <td>0.003740</td>\n",
       "      <td>-0.069854</td>\n",
       "      <td>-0.027897</td>\n",
       "      <td>-0.094617</td>\n",
       "      <td>-0.050176</td>\n",
       "      <td>0.016909</td>\n",
       "      <td>0.012815</td>\n",
       "    </tr>\n",
       "    <tr>\n",
       "      <th>day</th>\n",
       "      <td>0.020957</td>\n",
       "      <td>1.000000</td>\n",
       "      <td>0.002677</td>\n",
       "      <td>-0.001706</td>\n",
       "      <td>0.001721</td>\n",
       "      <td>-0.057198</td>\n",
       "      <td>-0.036641</td>\n",
       "      <td>-0.028267</td>\n",
       "      <td>-0.027595</td>\n",
       "      <td>-0.011991</td>\n",
       "      <td>-0.011080</td>\n",
       "    </tr>\n",
       "    <tr>\n",
       "      <th>campaign_number</th>\n",
       "      <td>-0.000471</td>\n",
       "      <td>0.002677</td>\n",
       "      <td>1.000000</td>\n",
       "      <td>0.030682</td>\n",
       "      <td>-0.007490</td>\n",
       "      <td>-0.146103</td>\n",
       "      <td>-0.219667</td>\n",
       "      <td>-0.115294</td>\n",
       "      <td>-0.157902</td>\n",
       "      <td>-0.204484</td>\n",
       "      <td>-0.201469</td>\n",
       "    </tr>\n",
       "    <tr>\n",
       "      <th>user_engagement</th>\n",
       "      <td>-0.078708</td>\n",
       "      <td>-0.001706</td>\n",
       "      <td>0.030682</td>\n",
       "      <td>1.000000</td>\n",
       "      <td>0.006661</td>\n",
       "      <td>-0.138619</td>\n",
       "      <td>-0.227933</td>\n",
       "      <td>-0.038347</td>\n",
       "      <td>-0.137173</td>\n",
       "      <td>-0.233200</td>\n",
       "      <td>-0.227426</td>\n",
       "    </tr>\n",
       "    <tr>\n",
       "      <th>placement</th>\n",
       "      <td>0.003740</td>\n",
       "      <td>0.001721</td>\n",
       "      <td>-0.007490</td>\n",
       "      <td>0.006661</td>\n",
       "      <td>1.000000</td>\n",
       "      <td>0.192656</td>\n",
       "      <td>0.121007</td>\n",
       "      <td>0.060950</td>\n",
       "      <td>0.042721</td>\n",
       "      <td>0.059895</td>\n",
       "      <td>0.064226</td>\n",
       "    </tr>\n",
       "    <tr>\n",
       "      <th>displays</th>\n",
       "      <td>-0.069854</td>\n",
       "      <td>-0.057198</td>\n",
       "      <td>-0.146103</td>\n",
       "      <td>-0.138619</td>\n",
       "      <td>0.192656</td>\n",
       "      <td>1.000000</td>\n",
       "      <td>0.881986</td>\n",
       "      <td>0.766641</td>\n",
       "      <td>0.754389</td>\n",
       "      <td>0.779958</td>\n",
       "      <td>0.787834</td>\n",
       "    </tr>\n",
       "    <tr>\n",
       "      <th>cost</th>\n",
       "      <td>-0.027897</td>\n",
       "      <td>-0.036641</td>\n",
       "      <td>-0.219667</td>\n",
       "      <td>-0.227933</td>\n",
       "      <td>0.121007</td>\n",
       "      <td>0.881986</td>\n",
       "      <td>1.000000</td>\n",
       "      <td>0.672477</td>\n",
       "      <td>0.760258</td>\n",
       "      <td>0.841466</td>\n",
       "      <td>0.841870</td>\n",
       "    </tr>\n",
       "    <tr>\n",
       "      <th>clicks</th>\n",
       "      <td>-0.094617</td>\n",
       "      <td>-0.028267</td>\n",
       "      <td>-0.115294</td>\n",
       "      <td>-0.038347</td>\n",
       "      <td>0.060950</td>\n",
       "      <td>0.766641</td>\n",
       "      <td>0.672477</td>\n",
       "      <td>1.000000</td>\n",
       "      <td>0.843448</td>\n",
       "      <td>0.701952</td>\n",
       "      <td>0.718558</td>\n",
       "    </tr>\n",
       "    <tr>\n",
       "      <th>revenue</th>\n",
       "      <td>-0.050176</td>\n",
       "      <td>-0.027595</td>\n",
       "      <td>-0.157902</td>\n",
       "      <td>-0.137173</td>\n",
       "      <td>0.042721</td>\n",
       "      <td>0.754389</td>\n",
       "      <td>0.760258</td>\n",
       "      <td>0.843448</td>\n",
       "      <td>1.000000</td>\n",
       "      <td>0.880286</td>\n",
       "      <td>0.887026</td>\n",
       "    </tr>\n",
       "    <tr>\n",
       "      <th>post_click_conversions</th>\n",
       "      <td>0.016909</td>\n",
       "      <td>-0.011991</td>\n",
       "      <td>-0.204484</td>\n",
       "      <td>-0.233200</td>\n",
       "      <td>0.059895</td>\n",
       "      <td>0.779958</td>\n",
       "      <td>0.841466</td>\n",
       "      <td>0.701952</td>\n",
       "      <td>0.880286</td>\n",
       "      <td>1.000000</td>\n",
       "      <td>0.992145</td>\n",
       "    </tr>\n",
       "    <tr>\n",
       "      <th>post_click_sales_amount</th>\n",
       "      <td>0.012815</td>\n",
       "      <td>-0.011080</td>\n",
       "      <td>-0.201469</td>\n",
       "      <td>-0.227426</td>\n",
       "      <td>0.064226</td>\n",
       "      <td>0.787834</td>\n",
       "      <td>0.841870</td>\n",
       "      <td>0.718558</td>\n",
       "      <td>0.887026</td>\n",
       "      <td>0.992145</td>\n",
       "      <td>1.000000</td>\n",
       "    </tr>\n",
       "  </tbody>\n",
       "</table>\n",
       "</div>"
      ],
      "text/plain": [
       "                            month       day  campaign_number  user_engagement  \\\n",
       "month                    1.000000  0.020957        -0.000471        -0.078708   \n",
       "day                      0.020957  1.000000         0.002677        -0.001706   \n",
       "campaign_number         -0.000471  0.002677         1.000000         0.030682   \n",
       "user_engagement         -0.078708 -0.001706         0.030682         1.000000   \n",
       "placement                0.003740  0.001721        -0.007490         0.006661   \n",
       "displays                -0.069854 -0.057198        -0.146103        -0.138619   \n",
       "cost                    -0.027897 -0.036641        -0.219667        -0.227933   \n",
       "clicks                  -0.094617 -0.028267        -0.115294        -0.038347   \n",
       "revenue                 -0.050176 -0.027595        -0.157902        -0.137173   \n",
       "post_click_conversions   0.016909 -0.011991        -0.204484        -0.233200   \n",
       "post_click_sales_amount  0.012815 -0.011080        -0.201469        -0.227426   \n",
       "\n",
       "                         placement  displays      cost    clicks   revenue  \\\n",
       "month                     0.003740 -0.069854 -0.027897 -0.094617 -0.050176   \n",
       "day                       0.001721 -0.057198 -0.036641 -0.028267 -0.027595   \n",
       "campaign_number          -0.007490 -0.146103 -0.219667 -0.115294 -0.157902   \n",
       "user_engagement           0.006661 -0.138619 -0.227933 -0.038347 -0.137173   \n",
       "placement                 1.000000  0.192656  0.121007  0.060950  0.042721   \n",
       "displays                  0.192656  1.000000  0.881986  0.766641  0.754389   \n",
       "cost                      0.121007  0.881986  1.000000  0.672477  0.760258   \n",
       "clicks                    0.060950  0.766641  0.672477  1.000000  0.843448   \n",
       "revenue                   0.042721  0.754389  0.760258  0.843448  1.000000   \n",
       "post_click_conversions    0.059895  0.779958  0.841466  0.701952  0.880286   \n",
       "post_click_sales_amount   0.064226  0.787834  0.841870  0.718558  0.887026   \n",
       "\n",
       "                         post_click_conversions  post_click_sales_amount  \n",
       "month                                  0.016909                 0.012815  \n",
       "day                                   -0.011991                -0.011080  \n",
       "campaign_number                       -0.204484                -0.201469  \n",
       "user_engagement                       -0.233200                -0.227426  \n",
       "placement                              0.059895                 0.064226  \n",
       "displays                               0.779958                 0.787834  \n",
       "cost                                   0.841466                 0.841870  \n",
       "clicks                                 0.701952                 0.718558  \n",
       "revenue                                0.880286                 0.887026  \n",
       "post_click_conversions                 1.000000                 0.992145  \n",
       "post_click_sales_amount                0.992145                 1.000000  "
      ]
     },
     "execution_count": 34,
     "metadata": {},
     "output_type": "execute_result"
    }
   ],
   "source": [
    "# Perfrom correlation analysis\n",
    "numerical_cols = Data.select_dtypes(include= ['int64', 'float64']).columns\n",
    "coor_matrix = Data[numerical_cols].corr()\n",
    "#print(\"\\nCoorelation Matrix:\")\n",
    "#print(coor_matrix)\n",
    "coor_matrix"
   ]
  },
  {
   "cell_type": "code",
   "execution_count": 57,
   "id": "a9846f2c",
   "metadata": {},
   "outputs": [
    {
     "data": {
      "image/png": "[encoded data removed]",
      "text/plain": [
       "<Figure size 576x432 with 2 Axes>"
      ]
     },
     "metadata": {
      "needs_background": "light"
     },
     "output_type": "display_data"
    }
   ],
   "source": [
    "import seaborn as sns\n",
    "import matplotlib.pyplot as plt\n",
    "\n",
    "# Select numerical columns\n",
    "numerical_cols = Data.select_dtypes(include=['int64', 'float64']).columns\n",
    "\n",
    "# Calculate correlation matrix\n",
    "corr_matrix = Data[numerical_cols].corr()\n",
    "\n",
    "# Create heatmap\n",
    "plt.figure(figsize=(8, 6))\n",
    "sns.heatmap(corr_matrix, annot=True, cmap='coolwarm')\n",
    "plt.title('Correlation Matrix')  # Add title\n",
    "plt.show()"
   ]
  },
  {
   "cell_type": "markdown",
   "id": "d2f49572",
   "metadata": {},
   "source": [
    "Insights:\n",
    "    \n",
    "Positive Correlations:\n",
    "\n",
    "1. Displays and Cost: High correlation (0.882) indicates costly campaigns often have more displays.\n",
    "    \n",
    "2. Clicks and Revenue: Strong relationship (0.843) between clicks and revenue.\n",
    "    \n",
    "3. Post-click Conversions and Post-click Sales Amount: Tight correlation (0.992) indicates conversions often lead to sales.\n",
    "    \n",
    "4. Placement and Displays: Well-placed ads lead to more displays (0.193).\n",
    "    \n",
    "A high number of displays is strongly correlated with increased costs. This indicates that more ad displays directly drive up spending.\n",
    "    \n",
    "Revenue is closely tied to the post-click sales amount, indicating that sales conversions significantly impact revenue.\n",
    "\n",
    "Moderate Correlations:\n",
    "\n",
    "1. clicks ↔ revenue (0.843):\n",
    "\n",
    "2. More clicks on ads generally lead to higher revenue, a reasonable relationship for ad performance.\n",
    "\n",
    "3. displays ↔ revenue (0.754):\n",
    "\n",
    "Displaying more ads generally correlates with higher revenue, suggesting a volume effect.\n",
    "    \n",
    "Negative Correlations:\n",
    "\n",
    "1. Campaign Number and Post-click Conversions/Sales: More campaigns may dilute conversion effectiveness (-0.202).\n",
    "    \n",
    "2. User Engagement and Displays: Lower engagement may result from excessive displays (-0.135).\n"
   ]
  },
  {
   "cell_type": "markdown",
   "id": "7c9b8abb",
   "metadata": {},
   "source": [
    "# 8. Prepare the Data for Modeling"
   ]
  },
  {
   "cell_type": "code",
   "execution_count": 37,
   "id": "2cea764a",
   "metadata": {},
   "outputs": [],
   "source": [
    "# Define feature and target\n",
    "X = Data.drop(['cost'], axis=1)    # Features (Indepedent Variables)\n",
    "Y = Data['cost']                   # Target ( Dependent Variable)"
   ]
  },
  {
   "cell_type": "code",
   "execution_count": 38,
   "id": "ed9cd516",
   "metadata": {},
   "outputs": [],
   "source": [
    "# Split the data into training and testing sets\n",
    "X_train, X_test, y_train, y_test = train_test_split(X, y, test_size=0.2, random_state=42)"
   ]
  },
  {
   "cell_type": "code",
   "execution_count": 39,
   "id": "3b57e9cd",
   "metadata": {},
   "outputs": [],
   "source": [
    "# Handle missing values with SimpleImputer\n",
    "imputer = SimpleImputer(strategy='mean')\n",
    "X_train_imputed = imputer.fit_transform(X_train)\n",
    "X_test_imputed = imputer.transform(X_test)"
   ]
  },
  {
   "cell_type": "markdown",
   "id": "78dfbee4",
   "metadata": {},
   "source": [
    "# 9. Model 1: Linear Regression"
   ]
  },
  {
   "cell_type": "code",
   "execution_count": 40,
   "id": "fb3bd030",
   "metadata": {},
   "outputs": [
    {
     "data": {
      "text/html": [
       "<style>#sk-container-id-1 {\n",
       "  /* Definition of color scheme common for light and dark mode */\n",
       "  --sklearn-color-text: black;\n",
       "  --sklearn-color-line: gray;\n",
       "  /* Definition of color scheme for unfitted estimators */\n",
       "  --sklearn-color-unfitted-level-0: #fff5e6;\n",
       "  --sklearn-color-unfitted-level-1: #f6e4d2;\n",
       "  --sklearn-color-unfitted-level-2: #ffe0b3;\n",
       "  --sklearn-color-unfitted-level-3: chocolate;\n",
       "  /* Definition of color scheme for fitted estimators */\n",
       "  --sklearn-color-fitted-level-0: #f0f8ff;\n",
       "  --sklearn-color-fitted-level-1: #d4ebff;\n",
       "  --sklearn-color-fitted-level-2: #b3dbfd;\n",
       "  --sklearn-color-fitted-level-3: cornflowerblue;\n",
       "\n",
       "  /* Specific color for light theme */\n",
       "  --sklearn-color-text-on-default-background: var(--sg-text-color, var(--theme-code-foreground, var(--jp-content-font-color1, black)));\n",
       "  --sklearn-color-background: var(--sg-background-color, var(--theme-background, var(--jp-layout-color0, white)));\n",
       "  --sklearn-color-border-box: var(--sg-text-color, var(--theme-code-foreground, var(--jp-content-font-color1, black)));\n",
       "  --sklearn-color-icon: #696969;\n",
       "\n",
       "  @media (prefers-color-scheme: dark) {\n",
       "    /* Redefinition of color scheme for dark theme */\n",
       "    --sklearn-color-text-on-default-background: var(--sg-text-color, var(--theme-code-foreground, var(--jp-content-font-color1, white)));\n",
       "    --sklearn-color-background: var(--sg-background-color, var(--theme-background, var(--jp-layout-color0, #111)));\n",
       "    --sklearn-color-border-box: var(--sg-text-color, var(--theme-code-foreground, var(--jp-content-font-color1, white)));\n",
       "    --sklearn-color-icon: #878787;\n",
       "  }\n",
       "}\n",
       "\n",
       "#sk-container-id-1 {\n",
       "  color: var(--sklearn-color-text);\n",
       "}\n",
       "\n",
       "#sk-container-id-1 pre {\n",
       "  padding: 0;\n",
       "}\n",
       "\n",
       "#sk-container-id-1 input.sk-hidden--visually {\n",
       "  border: 0;\n",
       "  clip: rect(1px 1px 1px 1px);\n",
       "  clip: rect(1px, 1px, 1px, 1px);\n",
       "  height: 1px;\n",
       "  margin: -1px;\n",
       "  overflow: hidden;\n",
       "  padding: 0;\n",
       "  position: absolute;\n",
       "  width: 1px;\n",
       "}\n",
       "\n",
       "#sk-container-id-1 div.sk-dashed-wrapped {\n",
       "  border: 1px dashed var(--sklearn-color-line);\n",
       "  margin: 0 0.4em 0.5em 0.4em;\n",
       "  box-sizing: border-box;\n",
       "  padding-bottom: 0.4em;\n",
       "  background-color: var(--sklearn-color-background);\n",
       "}\n",
       "\n",
       "#sk-container-id-1 div.sk-container {\n",
       "  /* jupyter's `normalize.less` sets `[hidden] { display: none; }`\n",
       "     but bootstrap.min.css set `[hidden] { display: none !important; }`\n",
       "     so we also need the `!important` here to be able to override the\n",
       "     default hidden behavior on the sphinx rendered scikit-learn.org.\n",
       "     See: https://github.com/scikit-learn/scikit-learn/issues/21755 */\n",
       "  display: inline-block !important;\n",
       "  position: relative;\n",
       "}\n",
       "\n",
       "#sk-container-id-1 div.sk-text-repr-fallback {\n",
       "  display: none;\n",
       "}\n",
       "\n",
       "div.sk-parallel-item,\n",
       "div.sk-serial,\n",
       "div.sk-item {\n",
       "  /* draw centered vertical line to link estimators */\n",
       "  background-image: linear-gradient(var(--sklearn-color-text-on-default-background), var(--sklearn-color-text-on-default-background));\n",
       "  background-size: 2px 100%;\n",
       "  background-repeat: no-repeat;\n",
       "  background-position: center center;\n",
       "}\n",
       "\n",
       "/* Parallel-specific style estimator block */\n",
       "\n",
       "#sk-container-id-1 div.sk-parallel-item::after {\n",
       "  content: \"\";\n",
       "  width: 100%;\n",
       "  border-bottom: 2px solid var(--sklearn-color-text-on-default-background);\n",
       "  flex-grow: 1;\n",
       "}\n",
       "\n",
       "#sk-container-id-1 div.sk-parallel {\n",
       "  display: flex;\n",
       "  align-items: stretch;\n",
       "  justify-content: center;\n",
       "  background-color: var(--sklearn-color-background);\n",
       "  position: relative;\n",
       "}\n",
       "\n",
       "#sk-container-id-1 div.sk-parallel-item {\n",
       "  display: flex;\n",
       "  flex-direction: column;\n",
       "}\n",
       "\n",
       "#sk-container-id-1 div.sk-parallel-item:first-child::after {\n",
       "  align-self: flex-end;\n",
       "  width: 50%;\n",
       "}\n",
       "\n",
       "#sk-container-id-1 div.sk-parallel-item:last-child::after {\n",
       "  align-self: flex-start;\n",
       "  width: 50%;\n",
       "}\n",
       "\n",
       "#sk-container-id-1 div.sk-parallel-item:only-child::after {\n",
       "  width: 0;\n",
       "}\n",
       "\n",
       "/* Serial-specific style estimator block */\n",
       "\n",
       "#sk-container-id-1 div.sk-serial {\n",
       "  display: flex;\n",
       "  flex-direction: column;\n",
       "  align-items: center;\n",
       "  background-color: var(--sklearn-color-background);\n",
       "  padding-right: 1em;\n",
       "  padding-left: 1em;\n",
       "}\n",
       "\n",
       "\n",
       "/* Toggleable style: style used for estimator/Pipeline/ColumnTransformer box that is\n",
       "clickable and can be expanded/collapsed.\n",
       "- Pipeline and ColumnTransformer use this feature and define the default style\n",
       "- Estimators will overwrite some part of the style using the `sk-estimator` class\n",
       "*/\n",
       "\n",
       "/* Pipeline and ColumnTransformer style (default) */\n",
       "\n",
       "#sk-container-id-1 div.sk-toggleable {\n",
       "  /* Default theme specific background. It is overwritten whether we have a\n",
       "  specific estimator or a Pipeline/ColumnTransformer */\n",
       "  background-color: var(--sklearn-color-background);\n",
       "}\n",
       "\n",
       "/* Toggleable label */\n",
       "#sk-container-id-1 label.sk-toggleable__label {\n",
       "  cursor: pointer;\n",
       "  display: block;\n",
       "  width: 100%;\n",
       "  margin-bottom: 0;\n",
       "  padding: 0.5em;\n",
       "  box-sizing: border-box;\n",
       "  text-align: center;\n",
       "}\n",
       "\n",
       "#sk-container-id-1 label.sk-toggleable__label-arrow:before {\n",
       "  /* Arrow on the left of the label */\n",
       "  content: \"▸\";\n",
       "  float: left;\n",
       "  margin-right: 0.25em;\n",
       "  color: var(--sklearn-color-icon);\n",
       "}\n",
       "\n",
       "#sk-container-id-1 label.sk-toggleable__label-arrow:hover:before {\n",
       "  color: var(--sklearn-color-text);\n",
       "}\n",
       "\n",
       "/* Toggleable content - dropdown */\n",
       "\n",
       "#sk-container-id-1 div.sk-toggleable__content {\n",
       "  max-height: 0;\n",
       "  max-width: 0;\n",
       "  overflow: hidden;\n",
       "  text-align: left;\n",
       "  /* unfitted */\n",
       "  background-color: var(--sklearn-color-unfitted-level-0);\n",
       "}\n",
       "\n",
       "#sk-container-id-1 div.sk-toggleable__content.fitted {\n",
       "  /* fitted */\n",
       "  background-color: var(--sklearn-color-fitted-level-0);\n",
       "}\n",
       "\n",
       "#sk-container-id-1 div.sk-toggleable__content pre {\n",
       "  margin: 0.2em;\n",
       "  border-radius: 0.25em;\n",
       "  color: var(--sklearn-color-text);\n",
       "  /* unfitted */\n",
       "  background-color: var(--sklearn-color-unfitted-level-0);\n",
       "}\n",
       "\n",
       "#sk-container-id-1 div.sk-toggleable__content.fitted pre {\n",
       "  /* unfitted */\n",
       "  background-color: var(--sklearn-color-fitted-level-0);\n",
       "}\n",
       "\n",
       "#sk-container-id-1 input.sk-toggleable__control:checked~div.sk-toggleable__content {\n",
       "  /* Expand drop-down */\n",
       "  max-height: 200px;\n",
       "  max-width: 100%;\n",
       "  overflow: auto;\n",
       "}\n",
       "\n",
       "#sk-container-id-1 input.sk-toggleable__control:checked~label.sk-toggleable__label-arrow:before {\n",
       "  content: \"▾\";\n",
       "}\n",
       "\n",
       "/* Pipeline/ColumnTransformer-specific style */\n",
       "\n",
       "#sk-container-id-1 div.sk-label input.sk-toggleable__control:checked~label.sk-toggleable__label {\n",
       "  color: var(--sklearn-color-text);\n",
       "  background-color: var(--sklearn-color-unfitted-level-2);\n",
       "}\n",
       "\n",
       "#sk-container-id-1 div.sk-label.fitted input.sk-toggleable__control:checked~label.sk-toggleable__label {\n",
       "  background-color: var(--sklearn-color-fitted-level-2);\n",
       "}\n",
       "\n",
       "/* Estimator-specific style */\n",
       "\n",
       "/* Colorize estimator box */\n",
       "#sk-container-id-1 div.sk-estimator input.sk-toggleable__control:checked~label.sk-toggleable__label {\n",
       "  /* unfitted */\n",
       "  background-color: var(--sklearn-color-unfitted-level-2);\n",
       "}\n",
       "\n",
       "#sk-container-id-1 div.sk-estimator.fitted input.sk-toggleable__control:checked~label.sk-toggleable__label {\n",
       "  /* fitted */\n",
       "  background-color: var(--sklearn-color-fitted-level-2);\n",
       "}\n",
       "\n",
       "#sk-container-id-1 div.sk-label label.sk-toggleable__label,\n",
       "#sk-container-id-1 div.sk-label label {\n",
       "  /* The background is the default theme color */\n",
       "  color: var(--sklearn-color-text-on-default-background);\n",
       "}\n",
       "\n",
       "/* On hover, darken the color of the background */\n",
       "#sk-container-id-1 div.sk-label:hover label.sk-toggleable__label {\n",
       "  color: var(--sklearn-color-text);\n",
       "  background-color: var(--sklearn-color-unfitted-level-2);\n",
       "}\n",
       "\n",
       "/* Label box, darken color on hover, fitted */\n",
       "#sk-container-id-1 div.sk-label.fitted:hover label.sk-toggleable__label.fitted {\n",
       "  color: var(--sklearn-color-text);\n",
       "  background-color: var(--sklearn-color-fitted-level-2);\n",
       "}\n",
       "\n",
       "/* Estimator label */\n",
       "\n",
       "#sk-container-id-1 div.sk-label label {\n",
       "  font-family: monospace;\n",
       "  font-weight: bold;\n",
       "  display: inline-block;\n",
       "  line-height: 1.2em;\n",
       "}\n",
       "\n",
       "#sk-container-id-1 div.sk-label-container {\n",
       "  text-align: center;\n",
       "}\n",
       "\n",
       "/* Estimator-specific */\n",
       "#sk-container-id-1 div.sk-estimator {\n",
       "  font-family: monospace;\n",
       "  border: 1px dotted var(--sklearn-color-border-box);\n",
       "  border-radius: 0.25em;\n",
       "  box-sizing: border-box;\n",
       "  margin-bottom: 0.5em;\n",
       "  /* unfitted */\n",
       "  background-color: var(--sklearn-color-unfitted-level-0);\n",
       "}\n",
       "\n",
       "#sk-container-id-1 div.sk-estimator.fitted {\n",
       "  /* fitted */\n",
       "  background-color: var(--sklearn-color-fitted-level-0);\n",
       "}\n",
       "\n",
       "/* on hover */\n",
       "#sk-container-id-1 div.sk-estimator:hover {\n",
       "  /* unfitted */\n",
       "  background-color: var(--sklearn-color-unfitted-level-2);\n",
       "}\n",
       "\n",
       "#sk-container-id-1 div.sk-estimator.fitted:hover {\n",
       "  /* fitted */\n",
       "  background-color: var(--sklearn-color-fitted-level-2);\n",
       "}\n",
       "\n",
       "/* Specification for estimator info (e.g. \"i\" and \"?\") */\n",
       "\n",
       "/* Common style for \"i\" and \"?\" */\n",
       "\n",
       ".sk-estimator-doc-link,\n",
       "a:link.sk-estimator-doc-link,\n",
       "a:visited.sk-estimator-doc-link {\n",
       "  float: right;\n",
       "  font-size: smaller;\n",
       "  line-height: 1em;\n",
       "  font-family: monospace;\n",
       "  background-color: var(--sklearn-color-background);\n",
       "  border-radius: 1em;\n",
       "  height: 1em;\n",
       "  width: 1em;\n",
       "  text-decoration: none !important;\n",
       "  margin-left: 1ex;\n",
       "  /* unfitted */\n",
       "  border: var(--sklearn-color-unfitted-level-1) 1pt solid;\n",
       "  color: var(--sklearn-color-unfitted-level-1);\n",
       "}\n",
       "\n",
       ".sk-estimator-doc-link.fitted,\n",
       "a:link.sk-estimator-doc-link.fitted,\n",
       "a:visited.sk-estimator-doc-link.fitted {\n",
       "  /* fitted */\n",
       "  border: var(--sklearn-color-fitted-level-1) 1pt solid;\n",
       "  color: var(--sklearn-color-fitted-level-1);\n",
       "}\n",
       "\n",
       "/* On hover */\n",
       "div.sk-estimator:hover .sk-estimator-doc-link:hover,\n",
       ".sk-estimator-doc-link:hover,\n",
       "div.sk-label-container:hover .sk-estimator-doc-link:hover,\n",
       ".sk-estimator-doc-link:hover {\n",
       "  /* unfitted */\n",
       "  background-color: var(--sklearn-color-unfitted-level-3);\n",
       "  color: var(--sklearn-color-background);\n",
       "  text-decoration: none;\n",
       "}\n",
       "\n",
       "div.sk-estimator.fitted:hover .sk-estimator-doc-link.fitted:hover,\n",
       ".sk-estimator-doc-link.fitted:hover,\n",
       "div.sk-label-container:hover .sk-estimator-doc-link.fitted:hover,\n",
       ".sk-estimator-doc-link.fitted:hover {\n",
       "  /* fitted */\n",
       "  background-color: var(--sklearn-color-fitted-level-3);\n",
       "  color: var(--sklearn-color-background);\n",
       "  text-decoration: none;\n",
       "}\n",
       "\n",
       "/* Span, style for the box shown on hovering the info icon */\n",
       ".sk-estimator-doc-link span {\n",
       "  display: none;\n",
       "  z-index: 9999;\n",
       "  position: relative;\n",
       "  font-weight: normal;\n",
       "  right: .2ex;\n",
       "  padding: .5ex;\n",
       "  margin: .5ex;\n",
       "  width: min-content;\n",
       "  min-width: 20ex;\n",
       "  max-width: 50ex;\n",
       "  color: var(--sklearn-color-text);\n",
       "  box-shadow: 2pt 2pt 4pt #999;\n",
       "  /* unfitted */\n",
       "  background: var(--sklearn-color-unfitted-level-0);\n",
       "  border: .5pt solid var(--sklearn-color-unfitted-level-3);\n",
       "}\n",
       "\n",
       ".sk-estimator-doc-link.fitted span {\n",
       "  /* fitted */\n",
       "  background: var(--sklearn-color-fitted-level-0);\n",
       "  border: var(--sklearn-color-fitted-level-3);\n",
       "}\n",
       "\n",
       ".sk-estimator-doc-link:hover span {\n",
       "  display: block;\n",
       "}\n",
       "\n",
       "/* \"?\"-specific style due to the `<a>` HTML tag */\n",
       "\n",
       "#sk-container-id-1 a.estimator_doc_link {\n",
       "  float: right;\n",
       "  font-size: 1rem;\n",
       "  line-height: 1em;\n",
       "  font-family: monospace;\n",
       "  background-color: var(--sklearn-color-background);\n",
       "  border-radius: 1rem;\n",
       "  height: 1rem;\n",
       "  width: 1rem;\n",
       "  text-decoration: none;\n",
       "  /* unfitted */\n",
       "  color: var(--sklearn-color-unfitted-level-1);\n",
       "  border: var(--sklearn-color-unfitted-level-1) 1pt solid;\n",
       "}\n",
       "\n",
       "#sk-container-id-1 a.estimator_doc_link.fitted {\n",
       "  /* fitted */\n",
       "  border: var(--sklearn-color-fitted-level-1) 1pt solid;\n",
       "  color: var(--sklearn-color-fitted-level-1);\n",
       "}\n",
       "\n",
       "/* On hover */\n",
       "#sk-container-id-1 a.estimator_doc_link:hover {\n",
       "  /* unfitted */\n",
       "  background-color: var(--sklearn-color-unfitted-level-3);\n",
       "  color: var(--sklearn-color-background);\n",
       "  text-decoration: none;\n",
       "}\n",
       "\n",
       "#sk-container-id-1 a.estimator_doc_link.fitted:hover {\n",
       "  /* fitted */\n",
       "  background-color: var(--sklearn-color-fitted-level-3);\n",
       "}\n",
       "</style><div id=\"sk-container-id-1\" class=\"sk-top-container\"><div class=\"sk-text-repr-fallback\"><pre>LinearRegression()</pre><b>In a Jupyter environment, please rerun this cell to show the HTML representation or trust the notebook. <br />On GitHub, the HTML representation is unable to render, please try loading this page with nbviewer.org.</b></div><div class=\"sk-container\" hidden><div class=\"sk-item\"><div class=\"sk-estimator fitted sk-toggleable\"><input class=\"sk-toggleable__control sk-hidden--visually\" id=\"sk-estimator-id-1\" type=\"checkbox\" checked><label for=\"sk-estimator-id-1\" class=\"sk-toggleable__label fitted sk-toggleable__label-arrow fitted\">&nbsp;&nbsp;LinearRegression<a class=\"sk-estimator-doc-link fitted\" rel=\"noreferrer\" target=\"_blank\" href=\"https://scikit-learn.org/1.5/modules/generated/sklearn.linear_model.LinearRegression.html\">?<span>Documentation for LinearRegression</span></a><span class=\"sk-estimator-doc-link fitted\">i<span>Fitted</span></span></label><div class=\"sk-toggleable__content fitted\"><pre>LinearRegression()</pre></div> </div></div></div></div>"
      ],
      "text/plain": [
       "LinearRegression()"
      ]
     },
     "execution_count": 40,
     "metadata": {},
     "output_type": "execute_result"
    }
   ],
   "source": [
    "linear_regressor = LinearRegression()\n",
    "linear_regressor.fit(X_train_imputed, y_train)"
   ]
  },
  {
   "cell_type": "code",
   "execution_count": 41,
   "id": "f671d5e7",
   "metadata": {},
   "outputs": [],
   "source": [
    "# Make predictions using the LinearRegression Model\n",
    "y_pred_linear = linear_regressor.predict(X_test_imputed)"
   ]
  },
  {
   "cell_type": "code",
   "execution_count": 42,
   "id": "a6585696",
   "metadata": {},
   "outputs": [
    {
     "name": "stdout",
     "output_type": "stream",
     "text": [
      "Linear Regression - Mean Squared Error: 343.49\n"
     ]
    }
   ],
   "source": [
    "# Evaluate Linear Regression Model Performance\n",
    "mse_linear = mean_squared_error(y_test, y_pred_linear)\n",
    "print(f\"Linear Regression - Mean Squared Error: {mse_linear:.2f}\")"
   ]
  },
  {
   "cell_type": "markdown",
   "id": "14709589",
   "metadata": {},
   "source": [
    "# 10. Model 2: Random Forest Regressor"
   ]
  },
  {
   "cell_type": "code",
   "execution_count": 43,
   "id": "8e0ba27f",
   "metadata": {},
   "outputs": [
    {
     "data": {
      "text/html": [
       "<style>#sk-container-id-2 {\n",
       "  /* Definition of color scheme common for light and dark mode */\n",
       "  --sklearn-color-text: black;\n",
       "  --sklearn-color-line: gray;\n",
       "  /* Definition of color scheme for unfitted estimators */\n",
       "  --sklearn-color-unfitted-level-0: #fff5e6;\n",
       "  --sklearn-color-unfitted-level-1: #f6e4d2;\n",
       "  --sklearn-color-unfitted-level-2: #ffe0b3;\n",
       "  --sklearn-color-unfitted-level-3: chocolate;\n",
       "  /* Definition of color scheme for fitted estimators */\n",
       "  --sklearn-color-fitted-level-0: #f0f8ff;\n",
       "  --sklearn-color-fitted-level-1: #d4ebff;\n",
       "  --sklearn-color-fitted-level-2: #b3dbfd;\n",
       "  --sklearn-color-fitted-level-3: cornflowerblue;\n",
       "\n",
       "  /* Specific color for light theme */\n",
       "  --sklearn-color-text-on-default-background: var(--sg-text-color, var(--theme-code-foreground, var(--jp-content-font-color1, black)));\n",
       "  --sklearn-color-background: var(--sg-background-color, var(--theme-background, var(--jp-layout-color0, white)));\n",
       "  --sklearn-color-border-box: var(--sg-text-color, var(--theme-code-foreground, var(--jp-content-font-color1, black)));\n",
       "  --sklearn-color-icon: #696969;\n",
       "\n",
       "  @media (prefers-color-scheme: dark) {\n",
       "    /* Redefinition of color scheme for dark theme */\n",
       "    --sklearn-color-text-on-default-background: var(--sg-text-color, var(--theme-code-foreground, var(--jp-content-font-color1, white)));\n",
       "    --sklearn-color-background: var(--sg-background-color, var(--theme-background, var(--jp-layout-color0, #111)));\n",
       "    --sklearn-color-border-box: var(--sg-text-color, var(--theme-code-foreground, var(--jp-content-font-color1, white)));\n",
       "    --sklearn-color-icon: #878787;\n",
       "  }\n",
       "}\n",
       "\n",
       "#sk-container-id-2 {\n",
       "  color: var(--sklearn-color-text);\n",
       "}\n",
       "\n",
       "#sk-container-id-2 pre {\n",
       "  padding: 0;\n",
       "}\n",
       "\n",
       "#sk-container-id-2 input.sk-hidden--visually {\n",
       "  border: 0;\n",
       "  clip: rect(1px 1px 1px 1px);\n",
       "  clip: rect(1px, 1px, 1px, 1px);\n",
       "  height: 1px;\n",
       "  margin: -1px;\n",
       "  overflow: hidden;\n",
       "  padding: 0;\n",
       "  position: absolute;\n",
       "  width: 1px;\n",
       "}\n",
       "\n",
       "#sk-container-id-2 div.sk-dashed-wrapped {\n",
       "  border: 1px dashed var(--sklearn-color-line);\n",
       "  margin: 0 0.4em 0.5em 0.4em;\n",
       "  box-sizing: border-box;\n",
       "  padding-bottom: 0.4em;\n",
       "  background-color: var(--sklearn-color-background);\n",
       "}\n",
       "\n",
       "#sk-container-id-2 div.sk-container {\n",
       "  /* jupyter's `normalize.less` sets `[hidden] { display: none; }`\n",
       "     but bootstrap.min.css set `[hidden] { display: none !important; }`\n",
       "     so we also need the `!important` here to be able to override the\n",
       "     default hidden behavior on the sphinx rendered scikit-learn.org.\n",
       "     See: https://github.com/scikit-learn/scikit-learn/issues/21755 */\n",
       "  display: inline-block !important;\n",
       "  position: relative;\n",
       "}\n",
       "\n",
       "#sk-container-id-2 div.sk-text-repr-fallback {\n",
       "  display: none;\n",
       "}\n",
       "\n",
       "div.sk-parallel-item,\n",
       "div.sk-serial,\n",
       "div.sk-item {\n",
       "  /* draw centered vertical line to link estimators */\n",
       "  background-image: linear-gradient(var(--sklearn-color-text-on-default-background), var(--sklearn-color-text-on-default-background));\n",
       "  background-size: 2px 100%;\n",
       "  background-repeat: no-repeat;\n",
       "  background-position: center center;\n",
       "}\n",
       "\n",
       "/* Parallel-specific style estimator block */\n",
       "\n",
       "#sk-container-id-2 div.sk-parallel-item::after {\n",
       "  content: \"\";\n",
       "  width: 100%;\n",
       "  border-bottom: 2px solid var(--sklearn-color-text-on-default-background);\n",
       "  flex-grow: 1;\n",
       "}\n",
       "\n",
       "#sk-container-id-2 div.sk-parallel {\n",
       "  display: flex;\n",
       "  align-items: stretch;\n",
       "  justify-content: center;\n",
       "  background-color: var(--sklearn-color-background);\n",
       "  position: relative;\n",
       "}\n",
       "\n",
       "#sk-container-id-2 div.sk-parallel-item {\n",
       "  display: flex;\n",
       "  flex-direction: column;\n",
       "}\n",
       "\n",
       "#sk-container-id-2 div.sk-parallel-item:first-child::after {\n",
       "  align-self: flex-end;\n",
       "  width: 50%;\n",
       "}\n",
       "\n",
       "#sk-container-id-2 div.sk-parallel-item:last-child::after {\n",
       "  align-self: flex-start;\n",
       "  width: 50%;\n",
       "}\n",
       "\n",
       "#sk-container-id-2 div.sk-parallel-item:only-child::after {\n",
       "  width: 0;\n",
       "}\n",
       "\n",
       "/* Serial-specific style estimator block */\n",
       "\n",
       "#sk-container-id-2 div.sk-serial {\n",
       "  display: flex;\n",
       "  flex-direction: column;\n",
       "  align-items: center;\n",
       "  background-color: var(--sklearn-color-background);\n",
       "  padding-right: 1em;\n",
       "  padding-left: 1em;\n",
       "}\n",
       "\n",
       "\n",
       "/* Toggleable style: style used for estimator/Pipeline/ColumnTransformer box that is\n",
       "clickable and can be expanded/collapsed.\n",
       "- Pipeline and ColumnTransformer use this feature and define the default style\n",
       "- Estimators will overwrite some part of the style using the `sk-estimator` class\n",
       "*/\n",
       "\n",
       "/* Pipeline and ColumnTransformer style (default) */\n",
       "\n",
       "#sk-container-id-2 div.sk-toggleable {\n",
       "  /* Default theme specific background. It is overwritten whether we have a\n",
       "  specific estimator or a Pipeline/ColumnTransformer */\n",
       "  background-color: var(--sklearn-color-background);\n",
       "}\n",
       "\n",
       "/* Toggleable label */\n",
       "#sk-container-id-2 label.sk-toggleable__label {\n",
       "  cursor: pointer;\n",
       "  display: block;\n",
       "  width: 100%;\n",
       "  margin-bottom: 0;\n",
       "  padding: 0.5em;\n",
       "  box-sizing: border-box;\n",
       "  text-align: center;\n",
       "}\n",
       "\n",
       "#sk-container-id-2 label.sk-toggleable__label-arrow:before {\n",
       "  /* Arrow on the left of the label */\n",
       "  content: \"▸\";\n",
       "  float: left;\n",
       "  margin-right: 0.25em;\n",
       "  color: var(--sklearn-color-icon);\n",
       "}\n",
       "\n",
       "#sk-container-id-2 label.sk-toggleable__label-arrow:hover:before {\n",
       "  color: var(--sklearn-color-text);\n",
       "}\n",
       "\n",
       "/* Toggleable content - dropdown */\n",
       "\n",
       "#sk-container-id-2 div.sk-toggleable__content {\n",
       "  max-height: 0;\n",
       "  max-width: 0;\n",
       "  overflow: hidden;\n",
       "  text-align: left;\n",
       "  /* unfitted */\n",
       "  background-color: var(--sklearn-color-unfitted-level-0);\n",
       "}\n",
       "\n",
       "#sk-container-id-2 div.sk-toggleable__content.fitted {\n",
       "  /* fitted */\n",
       "  background-color: var(--sklearn-color-fitted-level-0);\n",
       "}\n",
       "\n",
       "#sk-container-id-2 div.sk-toggleable__content pre {\n",
       "  margin: 0.2em;\n",
       "  border-radius: 0.25em;\n",
       "  color: var(--sklearn-color-text);\n",
       "  /* unfitted */\n",
       "  background-color: var(--sklearn-color-unfitted-level-0);\n",
       "}\n",
       "\n",
       "#sk-container-id-2 div.sk-toggleable__content.fitted pre {\n",
       "  /* unfitted */\n",
       "  background-color: var(--sklearn-color-fitted-level-0);\n",
       "}\n",
       "\n",
       "#sk-container-id-2 input.sk-toggleable__control:checked~div.sk-toggleable__content {\n",
       "  /* Expand drop-down */\n",
       "  max-height: 200px;\n",
       "  max-width: 100%;\n",
       "  overflow: auto;\n",
       "}\n",
       "\n",
       "#sk-container-id-2 input.sk-toggleable__control:checked~label.sk-toggleable__label-arrow:before {\n",
       "  content: \"▾\";\n",
       "}\n",
       "\n",
       "/* Pipeline/ColumnTransformer-specific style */\n",
       "\n",
       "#sk-container-id-2 div.sk-label input.sk-toggleable__control:checked~label.sk-toggleable__label {\n",
       "  color: var(--sklearn-color-text);\n",
       "  background-color: var(--sklearn-color-unfitted-level-2);\n",
       "}\n",
       "\n",
       "#sk-container-id-2 div.sk-label.fitted input.sk-toggleable__control:checked~label.sk-toggleable__label {\n",
       "  background-color: var(--sklearn-color-fitted-level-2);\n",
       "}\n",
       "\n",
       "/* Estimator-specific style */\n",
       "\n",
       "/* Colorize estimator box */\n",
       "#sk-container-id-2 div.sk-estimator input.sk-toggleable__control:checked~label.sk-toggleable__label {\n",
       "  /* unfitted */\n",
       "  background-color: var(--sklearn-color-unfitted-level-2);\n",
       "}\n",
       "\n",
       "#sk-container-id-2 div.sk-estimator.fitted input.sk-toggleable__control:checked~label.sk-toggleable__label {\n",
       "  /* fitted */\n",
       "  background-color: var(--sklearn-color-fitted-level-2);\n",
       "}\n",
       "\n",
       "#sk-container-id-2 div.sk-label label.sk-toggleable__label,\n",
       "#sk-container-id-2 div.sk-label label {\n",
       "  /* The background is the default theme color */\n",
       "  color: var(--sklearn-color-text-on-default-background);\n",
       "}\n",
       "\n",
       "/* On hover, darken the color of the background */\n",
       "#sk-container-id-2 div.sk-label:hover label.sk-toggleable__label {\n",
       "  color: var(--sklearn-color-text);\n",
       "  background-color: var(--sklearn-color-unfitted-level-2);\n",
       "}\n",
       "\n",
       "/* Label box, darken color on hover, fitted */\n",
       "#sk-container-id-2 div.sk-label.fitted:hover label.sk-toggleable__label.fitted {\n",
       "  color: var(--sklearn-color-text);\n",
       "  background-color: var(--sklearn-color-fitted-level-2);\n",
       "}\n",
       "\n",
       "/* Estimator label */\n",
       "\n",
       "#sk-container-id-2 div.sk-label label {\n",
       "  font-family: monospace;\n",
       "  font-weight: bold;\n",
       "  display: inline-block;\n",
       "  line-height: 1.2em;\n",
       "}\n",
       "\n",
       "#sk-container-id-2 div.sk-label-container {\n",
       "  text-align: center;\n",
       "}\n",
       "\n",
       "/* Estimator-specific */\n",
       "#sk-container-id-2 div.sk-estimator {\n",
       "  font-family: monospace;\n",
       "  border: 1px dotted var(--sklearn-color-border-box);\n",
       "  border-radius: 0.25em;\n",
       "  box-sizing: border-box;\n",
       "  margin-bottom: 0.5em;\n",
       "  /* unfitted */\n",
       "  background-color: var(--sklearn-color-unfitted-level-0);\n",
       "}\n",
       "\n",
       "#sk-container-id-2 div.sk-estimator.fitted {\n",
       "  /* fitted */\n",
       "  background-color: var(--sklearn-color-fitted-level-0);\n",
       "}\n",
       "\n",
       "/* on hover */\n",
       "#sk-container-id-2 div.sk-estimator:hover {\n",
       "  /* unfitted */\n",
       "  background-color: var(--sklearn-color-unfitted-level-2);\n",
       "}\n",
       "\n",
       "#sk-container-id-2 div.sk-estimator.fitted:hover {\n",
       "  /* fitted */\n",
       "  background-color: var(--sklearn-color-fitted-level-2);\n",
       "}\n",
       "\n",
       "/* Specification for estimator info (e.g. \"i\" and \"?\") */\n",
       "\n",
       "/* Common style for \"i\" and \"?\" */\n",
       "\n",
       ".sk-estimator-doc-link,\n",
       "a:link.sk-estimator-doc-link,\n",
       "a:visited.sk-estimator-doc-link {\n",
       "  float: right;\n",
       "  font-size: smaller;\n",
       "  line-height: 1em;\n",
       "  font-family: monospace;\n",
       "  background-color: var(--sklearn-color-background);\n",
       "  border-radius: 1em;\n",
       "  height: 1em;\n",
       "  width: 1em;\n",
       "  text-decoration: none !important;\n",
       "  margin-left: 1ex;\n",
       "  /* unfitted */\n",
       "  border: var(--sklearn-color-unfitted-level-1) 1pt solid;\n",
       "  color: var(--sklearn-color-unfitted-level-1);\n",
       "}\n",
       "\n",
       ".sk-estimator-doc-link.fitted,\n",
       "a:link.sk-estimator-doc-link.fitted,\n",
       "a:visited.sk-estimator-doc-link.fitted {\n",
       "  /* fitted */\n",
       "  border: var(--sklearn-color-fitted-level-1) 1pt solid;\n",
       "  color: var(--sklearn-color-fitted-level-1);\n",
       "}\n",
       "\n",
       "/* On hover */\n",
       "div.sk-estimator:hover .sk-estimator-doc-link:hover,\n",
       ".sk-estimator-doc-link:hover,\n",
       "div.sk-label-container:hover .sk-estimator-doc-link:hover,\n",
       ".sk-estimator-doc-link:hover {\n",
       "  /* unfitted */\n",
       "  background-color: var(--sklearn-color-unfitted-level-3);\n",
       "  color: var(--sklearn-color-background);\n",
       "  text-decoration: none;\n",
       "}\n",
       "\n",
       "div.sk-estimator.fitted:hover .sk-estimator-doc-link.fitted:hover,\n",
       ".sk-estimator-doc-link.fitted:hover,\n",
       "div.sk-label-container:hover .sk-estimator-doc-link.fitted:hover,\n",
       ".sk-estimator-doc-link.fitted:hover {\n",
       "  /* fitted */\n",
       "  background-color: var(--sklearn-color-fitted-level-3);\n",
       "  color: var(--sklearn-color-background);\n",
       "  text-decoration: none;\n",
       "}\n",
       "\n",
       "/* Span, style for the box shown on hovering the info icon */\n",
       ".sk-estimator-doc-link span {\n",
       "  display: none;\n",
       "  z-index: 9999;\n",
       "  position: relative;\n",
       "  font-weight: normal;\n",
       "  right: .2ex;\n",
       "  padding: .5ex;\n",
       "  margin: .5ex;\n",
       "  width: min-content;\n",
       "  min-width: 20ex;\n",
       "  max-width: 50ex;\n",
       "  color: var(--sklearn-color-text);\n",
       "  box-shadow: 2pt 2pt 4pt #999;\n",
       "  /* unfitted */\n",
       "  background: var(--sklearn-color-unfitted-level-0);\n",
       "  border: .5pt solid var(--sklearn-color-unfitted-level-3);\n",
       "}\n",
       "\n",
       ".sk-estimator-doc-link.fitted span {\n",
       "  /* fitted */\n",
       "  background: var(--sklearn-color-fitted-level-0);\n",
       "  border: var(--sklearn-color-fitted-level-3);\n",
       "}\n",
       "\n",
       ".sk-estimator-doc-link:hover span {\n",
       "  display: block;\n",
       "}\n",
       "\n",
       "/* \"?\"-specific style due to the `<a>` HTML tag */\n",
       "\n",
       "#sk-container-id-2 a.estimator_doc_link {\n",
       "  float: right;\n",
       "  font-size: 1rem;\n",
       "  line-height: 1em;\n",
       "  font-family: monospace;\n",
       "  background-color: var(--sklearn-color-background);\n",
       "  border-radius: 1rem;\n",
       "  height: 1rem;\n",
       "  width: 1rem;\n",
       "  text-decoration: none;\n",
       "  /* unfitted */\n",
       "  color: var(--sklearn-color-unfitted-level-1);\n",
       "  border: var(--sklearn-color-unfitted-level-1) 1pt solid;\n",
       "}\n",
       "\n",
       "#sk-container-id-2 a.estimator_doc_link.fitted {\n",
       "  /* fitted */\n",
       "  border: var(--sklearn-color-fitted-level-1) 1pt solid;\n",
       "  color: var(--sklearn-color-fitted-level-1);\n",
       "}\n",
       "\n",
       "/* On hover */\n",
       "#sk-container-id-2 a.estimator_doc_link:hover {\n",
       "  /* unfitted */\n",
       "  background-color: var(--sklearn-color-unfitted-level-3);\n",
       "  color: var(--sklearn-color-background);\n",
       "  text-decoration: none;\n",
       "}\n",
       "\n",
       "#sk-container-id-2 a.estimator_doc_link.fitted:hover {\n",
       "  /* fitted */\n",
       "  background-color: var(--sklearn-color-fitted-level-3);\n",
       "}\n",
       "</style><div id=\"sk-container-id-2\" class=\"sk-top-container\"><div class=\"sk-text-repr-fallback\"><pre>RandomForestRegressor(random_state=42)</pre><b>In a Jupyter environment, please rerun this cell to show the HTML representation or trust the notebook. <br />On GitHub, the HTML representation is unable to render, please try loading this page with nbviewer.org.</b></div><div class=\"sk-container\" hidden><div class=\"sk-item\"><div class=\"sk-estimator fitted sk-toggleable\"><input class=\"sk-toggleable__control sk-hidden--visually\" id=\"sk-estimator-id-2\" type=\"checkbox\" checked><label for=\"sk-estimator-id-2\" class=\"sk-toggleable__label fitted sk-toggleable__label-arrow fitted\">&nbsp;&nbsp;RandomForestRegressor<a class=\"sk-estimator-doc-link fitted\" rel=\"noreferrer\" target=\"_blank\" href=\"https://scikit-learn.org/1.5/modules/generated/sklearn.ensemble.RandomForestRegressor.html\">?<span>Documentation for RandomForestRegressor</span></a><span class=\"sk-estimator-doc-link fitted\">i<span>Fitted</span></span></label><div class=\"sk-toggleable__content fitted\"><pre>RandomForestRegressor(random_state=42)</pre></div> </div></div></div></div>"
      ],
      "text/plain": [
       "RandomForestRegressor(random_state=42)"
      ]
     },
     "execution_count": 43,
     "metadata": {},
     "output_type": "execute_result"
    }
   ],
   "source": [
    "random_forest = RandomForestRegressor(n_estimators=100, random_state=42)\n",
    "random_forest.fit(X_train_imputed, y_train)"
   ]
  },
  {
   "cell_type": "code",
   "execution_count": 44,
   "id": "69cde832",
   "metadata": {},
   "outputs": [],
   "source": [
    "# Make predictions using the RandomForest Model\n",
    "y_pred_rf = random_forest.predict(X_test_imputed)"
   ]
  },
  {
   "cell_type": "code",
   "execution_count": 45,
   "id": "f5e1d2bd",
   "metadata": {},
   "outputs": [
    {
     "name": "stdout",
     "output_type": "stream",
     "text": [
      "RandomForestRegressor - Mean Squared Error: 60.64\n"
     ]
    }
   ],
   "source": [
    "# Evaluate RandomForestRegressor Model Performance\n",
    "mse_rf =  mean_squared_error(y_test, y_pred_rf)\n",
    "print(f\"RandomForestRegressor - Mean Squared Error: {mse_rf:.2f}\")"
   ]
  },
  {
   "cell_type": "markdown",
   "id": "d33d5a75",
   "metadata": {},
   "source": [
    "# 11. Comparison between two models"
   ]
  },
  {
   "cell_type": "code",
   "execution_count": 46,
   "id": "242acde8",
   "metadata": {},
   "outputs": [
    {
     "name": "stdout",
     "output_type": "stream",
     "text": [
      "\n",
      "Random Forest Regressor Perform Better\n"
     ]
    }
   ],
   "source": [
    "# Choose the model with the best performance\n",
    "if mse_linear < mse_rf:\n",
    "    print(\"\\nLinear Regressor Perfrom Better\")\n",
    "else:\n",
    "    print(\"\\nRandom Forest Regressor Perform Better\")"
   ]
  },
  {
   "cell_type": "markdown",
   "id": "23a8f641",
   "metadata": {},
   "source": [
    "# 12. Advanced EDA"
   ]
  },
  {
   "cell_type": "code",
   "execution_count": 47,
   "id": "b1661f02",
   "metadata": {},
   "outputs": [],
   "source": [
    "# Calculateing ROI Return of Investment\n",
    "Data['cost'] = pd.to_numeric(Data['cost'], errors = 'coerce')\n",
    "Data['revenue'] = pd.to_numeric(Data['revenue'], errors = 'coerce')\n",
    "\n",
    "# Calculating and inserting new column ROI\n",
    "Data['ROI'] = ((Data['revenue'] - Data['cost'])/Data['cost'])*100"
   ]
  },
  {
   "cell_type": "code",
   "execution_count": 48,
   "id": "fe9fd37f",
   "metadata": {},
   "outputs": [
    {
     "data": {
      "image/png": "[encoded data removed]",
      "text/plain": [
       "<Figure size 576x288 with 1 Axes>"
      ]
     },
     "metadata": {
      "needs_background": "light"
     },
     "output_type": "display_data"
    },
    {
     "data": {
      "image/png": "[encoded data removed]",
      "text/plain": [
       "<Figure size 576x288 with 1 Axes>"
      ]
     },
     "metadata": {
      "needs_background": "light"
     },
     "output_type": "display_data"
    }
   ],
   "source": [
    "import seaborn as sns\n",
    "\n",
    "# Plot ROI over time (by Month)\n",
    "plt.figure(figsize=(8,4))\n",
    "sns.lineplot(x='month', y='ROI', data=Data)\n",
    "plt.title(\"ROI by Month\")\n",
    "plt.xlabel('month')\n",
    "plt.ylabel('ROI (%)') \n",
    "plt.show()\n",
    "\n",
    "# Plot ROI over time (by Day of Week)\n",
    "plt.figure(figsize=(8,4))\n",
    "sns.lineplot(x='day', y='ROI', data=Data)\n",
    "plt.title(\"ROI by Day of Week\")\n",
    "plt.xlabel('Day of Week (0=Mon, 6=Sun)')\n",
    "plt.ylabel('ROI (%)')\n",
    "plt.show()"
   ]
  },
  {
   "cell_type": "markdown",
   "id": "2c6d19f4",
   "metadata": {},
   "source": [
    "ROI by Month:\n",
    "\n",
    "Trends: By observing the line plot for ROI across the months, you can identify if there are specific months where the ROI is significantly higher or lower. For example, if there is a peak in ROI during a particular month, it could indicate that campaigns in that month performed better or that seasonal factors influenced the performance. Seasonal patterns: This can help you identify seasonal trends, which can be critical for budgeting and planning future campaigns.\n",
    "        \n",
    "ROI by Day of the Week:\n",
    "\n",
    "Daily patterns: If the plot shows higher ROI on specific days (e.g., mid-week or weekends), it can indicate that certain days of the week are more profitable for running campaigns. Understanding this can guide better allocation of budget on high-performing days. Optimal day identification: If you notice consistent peaks or valleys on specific days, you can optimize your campaign scheduling accordingly to capture better returns."
   ]
  },
  {
   "cell_type": "markdown",
   "id": "8c0dea0c",
   "metadata": {},
   "source": [
    "# 13 Segment Analysis by Campaign Type and User Engagement"
   ]
  },
  {
   "cell_type": "code",
   "execution_count": 49,
   "id": "dababd07",
   "metadata": {},
   "outputs": [
    {
     "data": {
      "image/png": "[encoded data removed]",
      "text/plain": [
       "<Figure size 576x288 with 1 Axes>"
      ]
     },
     "metadata": {
      "needs_background": "light"
     },
     "output_type": "display_data"
    },
    {
     "data": {
      "image/png": "[encoded data removed]",
      "text/plain": [
       "<Figure size 576x288 with 1 Axes>"
      ]
     },
     "metadata": {
      "needs_background": "light"
     },
     "output_type": "display_data"
    }
   ],
   "source": [
    "# Segment analysis by campaign type\n",
    "plt.figure(figsize=(8, 4))\n",
    "sns.boxplot(x='campaign_number', y='ROI', data=Data)\n",
    "plt.title(\"ROI by Campaign Number\")\n",
    "plt.xlabel('Campaign Number')\n",
    "plt.ylabel('ROI (%)')\n",
    "plt.show()\n",
    "\n",
    "# Segment analysis by User Engagement\n",
    "plt.figure(figsize=(8, 4))\n",
    "sns.boxplot(x='user_engagement', y='ROI', data=Data)\n",
    "plt.title(\"ROI by User Engagement\")\n",
    "plt.xlabel('User Engagement')\n",
    "plt.ylabel('ROI (%)')\n",
    "plt.show()"
   ]
  },
  {
   "cell_type": "markdown",
   "id": "a52e47b6",
   "metadata": {},
   "source": [
    "Insights\n",
    "\n",
    "There are significant outliers in ROI for all campaigns suggests variability in campaign performance\n",
    "\n",
    "There are significant outliers in ROI for all User Engagemet suggests variability in User Engagemet specialy midum"
   ]
  },
  {
   "cell_type": "markdown",
   "id": "531ca1fc",
   "metadata": {},
   "source": [
    "# 14. Feature Engineering:"
   ]
  },
  {
   "cell_type": "markdown",
   "id": "5d68701b",
   "metadata": {},
   "source": [
    "Interaction Terms: Create interaction terms like \"campaign × user engagement\" or \"cost × clicks\" to capture relationships between variables that might be influencing ROI. This can add depth to your model.\n",
    "\n",
    "Derived Metrics: Calculate cost per click (CPC) or revenue per impression (RPM) to see if these new features improve your model's predictive power."
   ]
  },
  {
   "cell_type": "code",
   "execution_count": 50,
   "id": "956a1dc7",
   "metadata": {},
   "outputs": [],
   "source": [
    "Data['CPC'] = Data['cost'] / Data['clicks']                   # CPC cost per click\n",
    "Data['RPM'] = Data['revenue'] / Data['displays']              # RPM Rvenue per mile (thousand impressions)"
   ]
  },
  {
   "cell_type": "code",
   "execution_count": 51,
   "id": "fcd3d50d",
   "metadata": {},
   "outputs": [
    {
     "data": {
      "image/png": "[encoded data removed]",
      "text/plain": [
       "<Figure size 432x216 with 1 Axes>"
      ]
     },
     "metadata": {
      "needs_background": "light"
     },
     "output_type": "display_data"
    },
    {
     "data": {
      "image/png": "[encoded data removed]",
      "text/plain": [
       "<Figure size 432x216 with 1 Axes>"
      ]
     },
     "metadata": {
      "needs_background": "light"
     },
     "output_type": "display_data"
    }
   ],
   "source": [
    "# Plotting CPC vs ROI to explore their relationship\n",
    "plt.figure(figsize=(6, 3))\n",
    "sns.scatterplot(x='CPC', y='ROI', data=Data)\n",
    "plt.title('CPC vs ROI')\n",
    "plt.xlabel('Cost per Click (CPC)')\n",
    "plt.ylabel('ROI')\n",
    "plt.show()\n",
    "\n",
    "# Plotting RPM by Campaign Type\n",
    "plt.figure(figsize=(6, 3))\n",
    "sns.boxplot(x='campaign_number', y='RPM', data=Data)\n",
    "plt.title('RPM by campaign_number')\n",
    "plt.xlabel('campaign_number')\n",
    "plt.ylabel('Revenue per Thousand Impressions (RPM)')\n",
    "plt.show()"
   ]
  },
  {
   "cell_type": "code",
   "execution_count": 52,
   "id": "49617d6a",
   "metadata": {},
   "outputs": [],
   "source": [
    "from sklearn.ensemble import RandomForestRegressor\n",
    "\n",
    "# Initialize Random Forest Regressor\n",
    "rf_model = RandomForestRegressor(random_state=42)"
   ]
  },
  {
   "cell_type": "code",
   "execution_count": 53,
   "id": "adfc2450",
   "metadata": {},
   "outputs": [
    {
     "name": "stdout",
     "output_type": "stream",
     "text": [
      "Best Parameters: {'max_depth': 15, 'min_samples_split': 2, 'n_estimators': 200}\n"
     ]
    }
   ],
   "source": [
    "from sklearn.model_selection import GridSearchCV\n",
    "\n",
    "param_grid = {\n",
    "    'n_estimators': [100, 200, 300],\n",
    "    'max_depth': [5, 10, 15],\n",
    "    'min_samples_split': [2, 5, 10],\n",
    "}\n",
    "\n",
    "rf_grid_search = GridSearchCV(estimator=rf_model, param_grid=param_grid, cv=5)\n",
    "rf_grid_search.fit(X_train, y_train)\n",
    "\n",
    "print(f\"Best Parameters: {rf_grid_search.best_params_}\")"
   ]
  },
  {
   "cell_type": "code",
   "execution_count": 54,
   "id": "9ea37679",
   "metadata": {},
   "outputs": [
    {
     "name": "stdout",
     "output_type": "stream",
     "text": [
      "Mean Squared Error: 60.49462107644278\n",
      "R^2 Score: 0.969891448569212\n"
     ]
    }
   ],
   "source": [
    "# Refit the Random Forest model with the best parameters\n",
    "best_rf_model = rf_grid_search.best_estimator_\n",
    "\n",
    "# Fit the model to the training data\n",
    "best_rf_model.fit(X_train, y_train)\n",
    "\n",
    "# Make predictions\n",
    "y_pred = best_rf_model.predict(X_test)\n",
    "\n",
    "# Evaluate the performance (e.g., using R^2, RMSE, etc.)\n",
    "from sklearn.metrics import mean_squared_error, r2_score\n",
    "mse = mean_squared_error(y_test, y_pred)\n",
    "r2 = r2_score(y_test, y_pred)\n",
    "\n",
    "print(f\"Mean Squared Error: {mse}\")\n",
    "print(f\"R^2 Score: {r2}\")"
   ]
  },
  {
   "cell_type": "code",
   "execution_count": 55,
   "id": "6e360eea",
   "metadata": {},
   "outputs": [
    {
     "data": {
      "image/png": "[encoded data removed]",
      "text/plain": [
       "<Figure size 720x288 with 1 Axes>"
      ]
     },
     "metadata": {
      "needs_background": "light"
     },
     "output_type": "display_data"
    }
   ],
   "source": [
    "# Get feature importances\n",
    "importances = best_rf_model.feature_importances_\n",
    "\n",
    "# Plot feature importances\n",
    "features = X_train.columns\n",
    "plt.figure(figsize=(10, 4))\n",
    "sns.barplot(x=features, y=importances)\n",
    "plt.title('Feature Importance')\n",
    "plt.ylabel('Importance')\n",
    "plt.xticks(rotation=60)\n",
    "plt.show()"
   ]
  },
  {
   "cell_type": "markdown",
   "id": "03174674",
   "metadata": {},
   "source": [
    "Conclusion:\n",
    "From the analysis and model training performed on the marketing data, we observed the following key insights:\n",
    "\n",
    "Feature Importance:\n",
    "\n",
    "The Random Forest model identified post-click conversions, revenue, displays, and post-click sales amount as the most important features influencing the ROI. This highlights that post-click activity, both in terms of conversions and sales, plays a significant role in driving marketing performance. Revenue and displays are also crucial in determining the success of campaigns. Model Performance:\n",
    "\n",
    "After performing Hyperparameter Tuning with GridSearchCV, the model showed significant improvements with optimal parameters (max_depth=15, n_estimators=200, min_samples_split=2), resulting in a more accurate prediction of ROI. Evaluation metrics, such as Mean Squared Error (MSE) and R^2 Score, suggest that the model's predictions are reliable and closely aligned with actual outcomes. Data Insights:\n",
    "\n",
    "The time-based analysis of ROI showed fluctuations throughout the months and days, which could help in identifying the best times to run campaigns. Segmented analyses based on campaign types and user engagement revealed which categories performed better, aiding in the optimization of future marketing efforts. Model Deployment:\n",
    "\n",
    "With the Random Forest model achieving solid results, the next steps involve implementing a deployment plan, potentially using a Streamlit dashboard. This will allow stakeholders to interactively visualize key metrics (e.g., ROI, CPC, RPM) and simulate different budget scenarios to forecast campaign outcomes. Business Impact:\n",
    "\n",
    "The model provides a powerful tool for forecasting ROI, which can be used to optimize marketing budgets and make data-driven decisions on where to allocate resources for maximum return. Understanding the impact of each feature enables more targeted strategies for improving marketing performance."
   ]
  }
 ],
 "metadata": {
  "kernelspec": {
   "display_name": "Python 3",
   "language": "python",
   "name": "python3"
  },
  "language_info": {
   "codemirror_mode": {
    "name": "ipython",
    "version": 3
   },
   "file_extension": ".py",
   "mimetype": "text/x-python",
   "name": "python",
   "nbconvert_exporter": "python",
   "pygments_lexer": "ipython3",
   "version": "3.11.5"
  }
 },
 "nbformat": 4,
 "nbformat_minor": 5
}
